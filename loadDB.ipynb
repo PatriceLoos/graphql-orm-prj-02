{
 "cells": [
  {
   "cell_type": "code",
   "execution_count": 15,
   "metadata": {},
   "outputs": [],
   "source": [
    "import requests\n",
    "import json\n",
    "\n",
    "\n",
    "def getAccount(qty):\n",
    "    api_url = \"https://randomuser.me/api/\"\n",
    "    headers =  {\"Content-Type\":\"application/json\"}\n",
    "    response = requests.get(api_url, headers=headers)\n",
    "    # display(response.json())\n",
    "    return response.json()\n",
    "\n",
    "def addAccount(a):\n",
    "    api_url = \"http://localhost:5000/graphql\"\n",
    "    headers =  {\n",
    "        \"Content-Type\":\"application/json\",\n",
    "        \"Accept-Encoding\":\"gzip, deflate, br\",\n",
    "        \"Accept\": \"application/json\",\n",
    "        \"Connection\": \"keep-alive\",\n",
    "        \"DNT\": \"1\",\n",
    "        \"Origin\": \"http://localhost:5000\"\n",
    "    }\n",
    "    # query = \"mutation{createUser(input:\" + json.dumps({\n",
    "    #     'name':f\"{a['name']['first']} {a['name']['last']}\",\n",
    "    #     'address':f\"{a['location']['street']['number']} {a['location']['street']['name']}, {a['location']['city']}, {a['location']['state']}, {a['location']['country']}, {a['location']['postcode']}\",\n",
    "    #     'description':'from randomuser.me',\n",
    "    #     'dob':a['dob']['date'],\n",
    "    #     'imageUrl':a['picture']['thumbnail'],\n",
    "    # }) + \") {createdAt} }\"\n",
    "\n",
    "    query = f\"\"\"mutation{{createUser(input:{{\n",
    "        name:\"{f\"{a['name']['first']} {a['name']['last']}\"}\"\n",
    "        address:\"{f\"{a['location']['street']['number']} {a['location']['street']['name']}, {a['location']['city']}, {a['location']['state']}, {a['location']['country']}, {a['location']['postcode']}\"}\"\n",
    "        description:\"from randomuser.me\"\n",
    "        dob:\"{a['dob']['date']}\"\n",
    "        imageUrl:\"{a['picture']['thumbnail']}\"\n",
    "    }}) {{createdAt}} }}\"\"\"\n",
    "\n",
    "    display(query)\n",
    "\n",
    "    response = requests.post(api_url, json={'query':query}, headers=headers)\n",
    "    return response.json()\n",
    "\n",
    "# response.status_code\n"
   ]
  },
  {
   "cell_type": "code",
   "execution_count": 22,
   "metadata": {},
   "outputs": [
    {
     "data": {
      "text/plain": [
       "'mutation{createUser(input:{\\n        name:\"Edin Bjørklund\"\\n        address:\"6977 Libakkfaret, Tromsø, Møre og Romsdal, Norway, 4394\"\\n        description:\"from randomuser.me\"\\n        dob:\"1966-07-04T23:06:10.414Z\"\\n        imageUrl:\"https://randomuser.me/api/portraits/thumb/men/40.jpg\"\\n    }) {createdAt} }'"
      ]
     },
     "metadata": {},
     "output_type": "display_data"
    },
    {
     "data": {
      "text/plain": [
       "{'data': {'createUser': {'createdAt': '2022-05-02T00:55:08.428Z'}}}"
      ]
     },
     "metadata": {},
     "output_type": "display_data"
    },
    {
     "data": {
      "text/plain": [
       "'mutation{createUser(input:{\\n        name:\"Timothe Brun\"\\n        address:\"5885 Rue de L\\'Abbé-Gillet, Boulogne-Billancourt, Eure-et-Loir, France, 64015\"\\n        description:\"from randomuser.me\"\\n        dob:\"1988-01-25T14:35:19.693Z\"\\n        imageUrl:\"https://randomuser.me/api/portraits/thumb/men/59.jpg\"\\n    }) {createdAt} }'"
      ]
     },
     "metadata": {},
     "output_type": "display_data"
    },
    {
     "data": {
      "text/plain": [
       "{'data': {'createUser': {'createdAt': '2022-05-02T00:55:08.699Z'}}}"
      ]
     },
     "metadata": {},
     "output_type": "display_data"
    },
    {
     "data": {
      "text/plain": [
       "'mutation{createUser(input:{\\n        name:\"Blake Li\"\\n        address:\"2450 Queen Street, Hamilton, Waikato, New Zealand, 42084\"\\n        description:\"from randomuser.me\"\\n        dob:\"1967-07-27T14:43:54.062Z\"\\n        imageUrl:\"https://randomuser.me/api/portraits/thumb/men/35.jpg\"\\n    }) {createdAt} }'"
      ]
     },
     "metadata": {},
     "output_type": "display_data"
    },
    {
     "data": {
      "text/plain": [
       "{'data': {'createUser': {'createdAt': '2022-05-02T00:55:09.023Z'}}}"
      ]
     },
     "metadata": {},
     "output_type": "display_data"
    },
    {
     "data": {
      "text/plain": [
       "'mutation{createUser(input:{\\n        name:\"Camille Lambert\"\\n        address:\"9002 Place du 8 Février 1962, Toulon, Alpes-Maritimes, France, 82656\"\\n        description:\"from randomuser.me\"\\n        dob:\"1953-10-23T05:19:46.381Z\"\\n        imageUrl:\"https://randomuser.me/api/portraits/thumb/women/49.jpg\"\\n    }) {createdAt} }'"
      ]
     },
     "metadata": {},
     "output_type": "display_data"
    },
    {
     "data": {
      "text/plain": [
       "{'data': {'createUser': {'createdAt': '2022-05-02T00:55:09.322Z'}}}"
      ]
     },
     "metadata": {},
     "output_type": "display_data"
    },
    {
     "data": {
      "text/plain": [
       "'mutation{createUser(input:{\\n        name:\"Koert Oostra\"\\n        address:\"9950 Kakeberg, Raath, Flevoland, Netherlands, 31705\"\\n        description:\"from randomuser.me\"\\n        dob:\"1950-10-02T02:23:44.027Z\"\\n        imageUrl:\"https://randomuser.me/api/portraits/thumb/men/3.jpg\"\\n    }) {createdAt} }'"
      ]
     },
     "metadata": {},
     "output_type": "display_data"
    },
    {
     "data": {
      "text/plain": [
       "{'data': {'createUser': {'createdAt': '2022-05-02T00:55:09.587Z'}}}"
      ]
     },
     "metadata": {},
     "output_type": "display_data"
    },
    {
     "data": {
      "text/plain": [
       "'mutation{createUser(input:{\\n        name:\"Bruce Woods\"\\n        address:\"8547 Mill Road, Kildare, Cork, Ireland, 38933\"\\n        description:\"from randomuser.me\"\\n        dob:\"1989-06-19T00:36:16.656Z\"\\n        imageUrl:\"https://randomuser.me/api/portraits/thumb/men/64.jpg\"\\n    }) {createdAt} }'"
      ]
     },
     "metadata": {},
     "output_type": "display_data"
    },
    {
     "data": {
      "text/plain": [
       "{'data': {'createUser': {'createdAt': '2022-05-02T00:55:09.873Z'}}}"
      ]
     },
     "metadata": {},
     "output_type": "display_data"
    },
    {
     "data": {
      "text/plain": [
       "'mutation{createUser(input:{\\n        name:\"Roy Murphy\"\\n        address:\"4453 The Green, Rush, Wicklow, Ireland, 11728\"\\n        description:\"from randomuser.me\"\\n        dob:\"1979-01-13T06:55:20.545Z\"\\n        imageUrl:\"https://randomuser.me/api/portraits/thumb/men/65.jpg\"\\n    }) {createdAt} }'"
      ]
     },
     "metadata": {},
     "output_type": "display_data"
    },
    {
     "data": {
      "text/plain": [
       "{'data': {'createUser': {'createdAt': '2022-05-02T00:55:10.144Z'}}}"
      ]
     },
     "metadata": {},
     "output_type": "display_data"
    },
    {
     "data": {
      "text/plain": [
       "'mutation{createUser(input:{\\n        name:\"Zoe Obrien\"\\n        address:\"8207 Rectory Lane, Leicester, Mid Glamorgan, United Kingdom, IM7O 4DB\"\\n        description:\"from randomuser.me\"\\n        dob:\"1950-02-19T22:16:17.654Z\"\\n        imageUrl:\"https://randomuser.me/api/portraits/thumb/women/59.jpg\"\\n    }) {createdAt} }'"
      ]
     },
     "metadata": {},
     "output_type": "display_data"
    },
    {
     "data": {
      "text/plain": [
       "{'data': {'createUser': {'createdAt': '2022-05-02T00:55:10.401Z'}}}"
      ]
     },
     "metadata": {},
     "output_type": "display_data"
    },
    {
     "data": {
      "text/plain": [
       "'mutation{createUser(input:{\\n        name:\"Valentin Fournier\"\\n        address:\"3778 Rue des Ecrivains, Amiens, Vienne, France, 21163\"\\n        description:\"from randomuser.me\"\\n        dob:\"1969-12-28T20:33:27.961Z\"\\n        imageUrl:\"https://randomuser.me/api/portraits/thumb/men/40.jpg\"\\n    }) {createdAt} }'"
      ]
     },
     "metadata": {},
     "output_type": "display_data"
    },
    {
     "data": {
      "text/plain": [
       "{'data': {'createUser': {'createdAt': '2022-05-02T00:55:10.671Z'}}}"
      ]
     },
     "metadata": {},
     "output_type": "display_data"
    },
    {
     "data": {
      "text/plain": [
       "'mutation{createUser(input:{\\n        name:\"Alex Van den Wildenberg\"\\n        address:\"8552 Bosschaartsweg, Arnhem, Flevoland, Netherlands, 38270\"\\n        description:\"from randomuser.me\"\\n        dob:\"1969-10-14T08:46:25.377Z\"\\n        imageUrl:\"https://randomuser.me/api/portraits/thumb/women/76.jpg\"\\n    }) {createdAt} }'"
      ]
     },
     "metadata": {},
     "output_type": "display_data"
    },
    {
     "data": {
      "text/plain": [
       "{'data': {'createUser': {'createdAt': '2022-05-02T00:55:10.935Z'}}}"
      ]
     },
     "metadata": {},
     "output_type": "display_data"
    },
    {
     "data": {
      "text/plain": [
       "'mutation{createUser(input:{\\n        name:\"النا کریمی\"\\n        address:\"5241 شورا, آبادان, یزد, Iran, 69006\"\\n        description:\"from randomuser.me\"\\n        dob:\"1986-10-31T09:28:02.936Z\"\\n        imageUrl:\"https://randomuser.me/api/portraits/thumb/women/24.jpg\"\\n    }) {createdAt} }'"
      ]
     },
     "metadata": {},
     "output_type": "display_data"
    },
    {
     "data": {
      "text/plain": [
       "{'data': {'createUser': {'createdAt': '2022-05-02T00:55:11.193Z'}}}"
      ]
     },
     "metadata": {},
     "output_type": "display_data"
    },
    {
     "data": {
      "text/plain": [
       "'mutation{createUser(input:{\\n        name:\"Sheila Lefebvre\"\\n        address:\"2524 Rue du Dauphiné, Eiken, Genève, Switzerland, 6802\"\\n        description:\"from randomuser.me\"\\n        dob:\"1992-03-30T04:06:24.056Z\"\\n        imageUrl:\"https://randomuser.me/api/portraits/thumb/women/59.jpg\"\\n    }) {createdAt} }'"
      ]
     },
     "metadata": {},
     "output_type": "display_data"
    },
    {
     "data": {
      "text/plain": [
       "{'data': {'createUser': {'createdAt': '2022-05-02T00:55:11.471Z'}}}"
      ]
     },
     "metadata": {},
     "output_type": "display_data"
    },
    {
     "data": {
      "text/plain": [
       "'mutation{createUser(input:{\\n        name:\"Ivan Gibson\"\\n        address:\"296 Main Street, Stoke-on-Trent, Cumbria, United Kingdom, M9B 1YE\"\\n        description:\"from randomuser.me\"\\n        dob:\"1948-12-29T11:13:10.954Z\"\\n        imageUrl:\"https://randomuser.me/api/portraits/thumb/men/77.jpg\"\\n    }) {createdAt} }'"
      ]
     },
     "metadata": {},
     "output_type": "display_data"
    },
    {
     "data": {
      "text/plain": [
       "{'data': {'createUser': {'createdAt': '2022-05-02T00:55:11.958Z'}}}"
      ]
     },
     "metadata": {},
     "output_type": "display_data"
    },
    {
     "data": {
      "text/plain": [
       "'mutation{createUser(input:{\\n        name:\"Merita Dubois\"\\n        address:\"1641 Rue Cyrus-Hugues, Jussy, Genève, Switzerland, 7775\"\\n        description:\"from randomuser.me\"\\n        dob:\"1967-12-28T14:33:57.223Z\"\\n        imageUrl:\"https://randomuser.me/api/portraits/thumb/women/45.jpg\"\\n    }) {createdAt} }'"
      ]
     },
     "metadata": {},
     "output_type": "display_data"
    },
    {
     "data": {
      "text/plain": [
       "{'data': {'createUser': {'createdAt': '2022-05-02T00:55:12.213Z'}}}"
      ]
     },
     "metadata": {},
     "output_type": "display_data"
    },
    {
     "data": {
      "text/plain": [
       "'mutation{createUser(input:{\\n        name:\"Ugo Martin\"\\n        address:\"2993 Rue Dubois, Tours, Aveyron, France, 61138\"\\n        description:\"from randomuser.me\"\\n        dob:\"1986-08-24T07:49:23.411Z\"\\n        imageUrl:\"https://randomuser.me/api/portraits/thumb/men/34.jpg\"\\n    }) {createdAt} }'"
      ]
     },
     "metadata": {},
     "output_type": "display_data"
    },
    {
     "data": {
      "text/plain": [
       "{'data': {'createUser': {'createdAt': '2022-05-02T00:55:12.483Z'}}}"
      ]
     },
     "metadata": {},
     "output_type": "display_data"
    },
    {
     "data": {
      "text/plain": [
       "'mutation{createUser(input:{\\n        name:\"آرتين کوتی\"\\n        address:\"6662 شهید علی باستانی, رشت, مازندران, Iran, 48068\"\\n        description:\"from randomuser.me\"\\n        dob:\"1965-12-19T19:12:02.623Z\"\\n        imageUrl:\"https://randomuser.me/api/portraits/thumb/men/17.jpg\"\\n    }) {createdAt} }'"
      ]
     },
     "metadata": {},
     "output_type": "display_data"
    },
    {
     "data": {
      "text/plain": [
       "{'data': {'createUser': {'createdAt': '2022-05-02T00:55:12.779Z'}}}"
      ]
     },
     "metadata": {},
     "output_type": "display_data"
    },
    {
     "data": {
      "text/plain": [
       "'mutation{createUser(input:{\\n        name:\"Manuela Lopez\"\\n        address:\"7986 Calle de La Almudena, Madrid, Cataluña, Spain, 93551\"\\n        description:\"from randomuser.me\"\\n        dob:\"1977-09-11T07:03:32.840Z\"\\n        imageUrl:\"https://randomuser.me/api/portraits/thumb/women/90.jpg\"\\n    }) {createdAt} }'"
      ]
     },
     "metadata": {},
     "output_type": "display_data"
    },
    {
     "data": {
      "text/plain": [
       "{'data': {'createUser': {'createdAt': '2022-05-02T00:55:13.079Z'}}}"
      ]
     },
     "metadata": {},
     "output_type": "display_data"
    },
    {
     "data": {
      "text/plain": [
       "'mutation{createUser(input:{\\n        name:\"Carl Sørensen\"\\n        address:\"6725 Lupinvej, Vipperød, Sjælland, Denmark, 90721\"\\n        description:\"from randomuser.me\"\\n        dob:\"1949-07-08T05:52:41.043Z\"\\n        imageUrl:\"https://randomuser.me/api/portraits/thumb/men/8.jpg\"\\n    }) {createdAt} }'"
      ]
     },
     "metadata": {},
     "output_type": "display_data"
    },
    {
     "data": {
      "text/plain": [
       "{'data': {'createUser': {'createdAt': '2022-05-02T00:55:13.345Z'}}}"
      ]
     },
     "metadata": {},
     "output_type": "display_data"
    },
    {
     "data": {
      "text/plain": [
       "'mutation{createUser(input:{\\n        name:\"Connor Shelton\"\\n        address:\"3975 High Street, Tramore, Galway City, Ireland, 34535\"\\n        description:\"from randomuser.me\"\\n        dob:\"1986-10-20T19:16:04.234Z\"\\n        imageUrl:\"https://randomuser.me/api/portraits/thumb/men/40.jpg\"\\n    }) {createdAt} }'"
      ]
     },
     "metadata": {},
     "output_type": "display_data"
    },
    {
     "data": {
      "text/plain": [
       "{'data': {'createUser': {'createdAt': '2022-05-02T00:55:13.593Z'}}}"
      ]
     },
     "metadata": {},
     "output_type": "display_data"
    },
    {
     "data": {
      "text/plain": [
       "'mutation{createUser(input:{\\n        name:\"Lutz Burkhart\"\\n        address:\"3247 Buchenweg, Kenzingen, Bayern, Germany, 71098\"\\n        description:\"from randomuser.me\"\\n        dob:\"1974-11-19T06:48:25.676Z\"\\n        imageUrl:\"https://randomuser.me/api/portraits/thumb/men/65.jpg\"\\n    }) {createdAt} }'"
      ]
     },
     "metadata": {},
     "output_type": "display_data"
    },
    {
     "data": {
      "text/plain": [
       "{'data': {'createUser': {'createdAt': '2022-05-02T00:55:13.834Z'}}}"
      ]
     },
     "metadata": {},
     "output_type": "display_data"
    },
    {
     "data": {
      "text/plain": [
       "'mutation{createUser(input:{\\n        name:\"Gene Williams\"\\n        address:\"9773 Victoria Road, Arklow, Wexford, Ireland, 34577\"\\n        description:\"from randomuser.me\"\\n        dob:\"1965-10-25T05:00:28.647Z\"\\n        imageUrl:\"https://randomuser.me/api/portraits/thumb/men/54.jpg\"\\n    }) {createdAt} }'"
      ]
     },
     "metadata": {},
     "output_type": "display_data"
    },
    {
     "data": {
      "text/plain": [
       "{'data': {'createUser': {'createdAt': '2022-05-02T00:55:14.156Z'}}}"
      ]
     },
     "metadata": {},
     "output_type": "display_data"
    },
    {
     "data": {
      "text/plain": [
       "'mutation{createUser(input:{\\n        name:\"Naja Christensen\"\\n        address:\"5729 Kløvermarksvej, Gjerlev, Nordjylland, Denmark, 30901\"\\n        description:\"from randomuser.me\"\\n        dob:\"1991-03-13T01:43:27.509Z\"\\n        imageUrl:\"https://randomuser.me/api/portraits/thumb/women/7.jpg\"\\n    }) {createdAt} }'"
      ]
     },
     "metadata": {},
     "output_type": "display_data"
    },
    {
     "data": {
      "text/plain": [
       "{'data': {'createUser': {'createdAt': '2022-05-02T00:55:14.403Z'}}}"
      ]
     },
     "metadata": {},
     "output_type": "display_data"
    },
    {
     "data": {
      "text/plain": [
       "'mutation{createUser(input:{\\n        name:\"Oğuzhan Türkyılmaz\"\\n        address:\"1047 Kushimoto Sk, Sinop, Ağrı, Turkey, 91616\"\\n        description:\"from randomuser.me\"\\n        dob:\"1990-01-24T20:57:15.776Z\"\\n        imageUrl:\"https://randomuser.me/api/portraits/thumb/men/32.jpg\"\\n    }) {createdAt} }'"
      ]
     },
     "metadata": {},
     "output_type": "display_data"
    },
    {
     "data": {
      "text/plain": [
       "{'data': {'createUser': {'createdAt': '2022-05-02T00:55:14.646Z'}}}"
      ]
     },
     "metadata": {},
     "output_type": "display_data"
    },
    {
     "data": {
      "text/plain": [
       "'mutation{createUser(input:{\\n        name:\"Henning Mehl\"\\n        address:\"9383 Brunnenstraße, Wittenberg, Nordrhein-Westfalen, Germany, 65689\"\\n        description:\"from randomuser.me\"\\n        dob:\"1956-05-24T04:44:47.362Z\"\\n        imageUrl:\"https://randomuser.me/api/portraits/thumb/men/29.jpg\"\\n    }) {createdAt} }'"
      ]
     },
     "metadata": {},
     "output_type": "display_data"
    },
    {
     "data": {
      "text/plain": [
       "{'data': {'createUser': {'createdAt': '2022-05-02T00:55:14.941Z'}}}"
      ]
     },
     "metadata": {},
     "output_type": "display_data"
    },
    {
     "data": {
      "text/plain": [
       "'mutation{createUser(input:{\\n        name:\"نیایش سهيلي راد\"\\n        address:\"2112 میدان آزادی, اراک, اصفهان, Iran, 90594\"\\n        description:\"from randomuser.me\"\\n        dob:\"1958-01-10T13:14:02.348Z\"\\n        imageUrl:\"https://randomuser.me/api/portraits/thumb/women/20.jpg\"\\n    }) {createdAt} }'"
      ]
     },
     "metadata": {},
     "output_type": "display_data"
    },
    {
     "data": {
      "text/plain": [
       "{'data': {'createUser': {'createdAt': '2022-05-02T00:55:15.234Z'}}}"
      ]
     },
     "metadata": {},
     "output_type": "display_data"
    },
    {
     "data": {
      "text/plain": [
       "'mutation{createUser(input:{\\n        name:\"Jozien Teske\"\\n        address:\"2432 Ceintuurbaan, Westbeemster, Utrecht, Netherlands, 62029\"\\n        description:\"from randomuser.me\"\\n        dob:\"1961-01-10T08:40:33.290Z\"\\n        imageUrl:\"https://randomuser.me/api/portraits/thumb/women/66.jpg\"\\n    }) {createdAt} }'"
      ]
     },
     "metadata": {},
     "output_type": "display_data"
    },
    {
     "data": {
      "text/plain": [
       "{'data': {'createUser': {'createdAt': '2022-05-02T00:55:15.471Z'}}}"
      ]
     },
     "metadata": {},
     "output_type": "display_data"
    },
    {
     "data": {
      "text/plain": [
       "'mutation{createUser(input:{\\n        name:\"نازنین كامياران\"\\n        address:\"9061 شهید بهشتی, گرگان, همدان, Iran, 26668\"\\n        description:\"from randomuser.me\"\\n        dob:\"1974-04-09T20:44:46.976Z\"\\n        imageUrl:\"https://randomuser.me/api/portraits/thumb/women/75.jpg\"\\n    }) {createdAt} }'"
      ]
     },
     "metadata": {},
     "output_type": "display_data"
    },
    {
     "data": {
      "text/plain": [
       "{'data': {'createUser': {'createdAt': '2022-05-02T00:55:15.737Z'}}}"
      ]
     },
     "metadata": {},
     "output_type": "display_data"
    },
    {
     "data": {
      "text/plain": [
       "'mutation{createUser(input:{\\n        name:\"Hector Bates\"\\n        address:\"2452 Poplar Dr, San Jose, Oregon, United States, 25189\"\\n        description:\"from randomuser.me\"\\n        dob:\"1966-11-28T02:11:26.726Z\"\\n        imageUrl:\"https://randomuser.me/api/portraits/thumb/men/85.jpg\"\\n    }) {createdAt} }'"
      ]
     },
     "metadata": {},
     "output_type": "display_data"
    },
    {
     "data": {
      "text/plain": [
       "{'data': {'createUser': {'createdAt': '2022-05-02T00:55:15.966Z'}}}"
      ]
     },
     "metadata": {},
     "output_type": "display_data"
    },
    {
     "data": {
      "text/plain": [
       "'mutation{createUser(input:{\\n        name:\"Adam Scott\"\\n        address:\"8575 Maple Ave, Fountainbleu, Saskatchewan, Canada, Z8E 5X9\"\\n        description:\"from randomuser.me\"\\n        dob:\"1997-03-30T01:28:53.968Z\"\\n        imageUrl:\"https://randomuser.me/api/portraits/thumb/men/84.jpg\"\\n    }) {createdAt} }'"
      ]
     },
     "metadata": {},
     "output_type": "display_data"
    },
    {
     "data": {
      "text/plain": [
       "{'data': {'createUser': {'createdAt': '2022-05-02T00:55:16.202Z'}}}"
      ]
     },
     "metadata": {},
     "output_type": "display_data"
    },
    {
     "data": {
      "text/plain": [
       "'mutation{createUser(input:{\\n        name:\"Nina Lemaire\"\\n        address:\"2495 Place de L\\'Abbé-Jean-Lebeuf, Besançon, Val-de-Marne, France, 38229\"\\n        description:\"from randomuser.me\"\\n        dob:\"1987-01-10T08:13:06.761Z\"\\n        imageUrl:\"https://randomuser.me/api/portraits/thumb/women/6.jpg\"\\n    }) {createdAt} }'"
      ]
     },
     "metadata": {},
     "output_type": "display_data"
    },
    {
     "data": {
      "text/plain": [
       "{'data': {'createUser': {'createdAt': '2022-05-02T00:55:16.455Z'}}}"
      ]
     },
     "metadata": {},
     "output_type": "display_data"
    },
    {
     "data": {
      "text/plain": [
       "'mutation{createUser(input:{\\n        name:\"Hemitério da Costa\"\\n        address:\"3878 Rua Pernambuco , Castanhal, Roraima, Brazil, 99172\"\\n        description:\"from randomuser.me\"\\n        dob:\"1985-10-14T23:31:06.111Z\"\\n        imageUrl:\"https://randomuser.me/api/portraits/thumb/men/27.jpg\"\\n    }) {createdAt} }'"
      ]
     },
     "metadata": {},
     "output_type": "display_data"
    },
    {
     "data": {
      "text/plain": [
       "{'data': {'createUser': {'createdAt': '2022-05-02T00:55:16.716Z'}}}"
      ]
     },
     "metadata": {},
     "output_type": "display_data"
    },
    {
     "data": {
      "text/plain": [
       "'mutation{createUser(input:{\\n        name:\"Lorik Bakkejord\"\\n        address:\"8252 Lundliveien, Ørnes, Buskerud, Norway, 6631\"\\n        description:\"from randomuser.me\"\\n        dob:\"1966-10-29T22:55:31.517Z\"\\n        imageUrl:\"https://randomuser.me/api/portraits/thumb/men/23.jpg\"\\n    }) {createdAt} }'"
      ]
     },
     "metadata": {},
     "output_type": "display_data"
    },
    {
     "data": {
      "text/plain": [
       "{'data': {'createUser': {'createdAt': '2022-05-02T00:55:17.001Z'}}}"
      ]
     },
     "metadata": {},
     "output_type": "display_data"
    },
    {
     "data": {
      "text/plain": [
       "'mutation{createUser(input:{\\n        name:\"Esma Akbulut\"\\n        address:\"8922 Vatan Cd, Bolu, Çanakkale, Turkey, 16214\"\\n        description:\"from randomuser.me\"\\n        dob:\"1997-05-23T14:25:50.105Z\"\\n        imageUrl:\"https://randomuser.me/api/portraits/thumb/women/8.jpg\"\\n    }) {createdAt} }'"
      ]
     },
     "metadata": {},
     "output_type": "display_data"
    },
    {
     "data": {
      "text/plain": [
       "{'data': {'createUser': {'createdAt': '2022-05-02T00:55:17.265Z'}}}"
      ]
     },
     "metadata": {},
     "output_type": "display_data"
    },
    {
     "data": {
      "text/plain": [
       "'mutation{createUser(input:{\\n        name:\"Pauline Elliott\"\\n        address:\"1101 Washington Ave, North Las Vegas, Vermont, United States, 25790\"\\n        description:\"from randomuser.me\"\\n        dob:\"1960-08-30T15:41:44.464Z\"\\n        imageUrl:\"https://randomuser.me/api/portraits/thumb/women/5.jpg\"\\n    }) {createdAt} }'"
      ]
     },
     "metadata": {},
     "output_type": "display_data"
    },
    {
     "data": {
      "text/plain": [
       "{'data': {'createUser': {'createdAt': '2022-05-02T00:55:17.554Z'}}}"
      ]
     },
     "metadata": {},
     "output_type": "display_data"
    },
    {
     "data": {
      "text/plain": [
       "'mutation{createUser(input:{\\n        name:\"Lucien Joly\"\\n        address:\"5676 Rue du 8 Mai 1945, Lyon, Lot-et-Garonne, France, 19725\"\\n        description:\"from randomuser.me\"\\n        dob:\"1963-04-21T05:24:30.501Z\"\\n        imageUrl:\"https://randomuser.me/api/portraits/thumb/men/6.jpg\"\\n    }) {createdAt} }'"
      ]
     },
     "metadata": {},
     "output_type": "display_data"
    },
    {
     "data": {
      "text/plain": [
       "{'data': {'createUser': {'createdAt': '2022-05-02T00:55:17.860Z'}}}"
      ]
     },
     "metadata": {},
     "output_type": "display_data"
    },
    {
     "data": {
      "text/plain": [
       "'mutation{createUser(input:{\\n        name:\"Emily Christiansen\"\\n        address:\"8473 Fredensvej, Noerre Alslev, Midtjylland, Denmark, 64153\"\\n        description:\"from randomuser.me\"\\n        dob:\"1950-01-24T15:29:31.676Z\"\\n        imageUrl:\"https://randomuser.me/api/portraits/thumb/women/7.jpg\"\\n    }) {createdAt} }'"
      ]
     },
     "metadata": {},
     "output_type": "display_data"
    },
    {
     "data": {
      "text/plain": [
       "{'data': {'createUser': {'createdAt': '2022-05-02T00:55:18.189Z'}}}"
      ]
     },
     "metadata": {},
     "output_type": "display_data"
    },
    {
     "data": {
      "text/plain": [
       "'mutation{createUser(input:{\\n        name:\"Hans Peter Hölzel\"\\n        address:\"8824 Friedhofstraße, Trochtelfingen, Sachsen-Anhalt, Germany, 88877\"\\n        description:\"from randomuser.me\"\\n        dob:\"1969-05-08T23:09:27.856Z\"\\n        imageUrl:\"https://randomuser.me/api/portraits/thumb/men/20.jpg\"\\n    }) {createdAt} }'"
      ]
     },
     "metadata": {},
     "output_type": "display_data"
    },
    {
     "data": {
      "text/plain": [
       "{'data': {'createUser': {'createdAt': '2022-05-02T00:55:18.420Z'}}}"
      ]
     },
     "metadata": {},
     "output_type": "display_data"
    },
    {
     "data": {
      "text/plain": [
       "'mutation{createUser(input:{\\n        name:\"Glen Montgomery\"\\n        address:\"6724 South Street, Passage West, Tipperary, Ireland, 41193\"\\n        description:\"from randomuser.me\"\\n        dob:\"1985-01-30T12:49:31.127Z\"\\n        imageUrl:\"https://randomuser.me/api/portraits/thumb/men/14.jpg\"\\n    }) {createdAt} }'"
      ]
     },
     "metadata": {},
     "output_type": "display_data"
    },
    {
     "data": {
      "text/plain": [
       "{'data': {'createUser': {'createdAt': '2022-05-02T00:55:18.678Z'}}}"
      ]
     },
     "metadata": {},
     "output_type": "display_data"
    },
    {
     "data": {
      "text/plain": [
       "'mutation{createUser(input:{\\n        name:\"Aidan White\"\\n        address:\"1864 Aldwins Road, Whangarei, Taranaki, New Zealand, 57005\"\\n        description:\"from randomuser.me\"\\n        dob:\"1980-03-26T19:46:56.824Z\"\\n        imageUrl:\"https://randomuser.me/api/portraits/thumb/men/99.jpg\"\\n    }) {createdAt} }'"
      ]
     },
     "metadata": {},
     "output_type": "display_data"
    },
    {
     "data": {
      "text/plain": [
       "{'data': {'createUser': {'createdAt': '2022-05-02T00:55:18.940Z'}}}"
      ]
     },
     "metadata": {},
     "output_type": "display_data"
    },
    {
     "data": {
      "text/plain": [
       "'mutation{createUser(input:{\\n        name:\"Luciano Lopes\"\\n        address:\"5478 Rua Vinte E Dois , Maringá, Rondônia, Brazil, 51029\"\\n        description:\"from randomuser.me\"\\n        dob:\"1957-03-07T23:12:46.697Z\"\\n        imageUrl:\"https://randomuser.me/api/portraits/thumb/men/33.jpg\"\\n    }) {createdAt} }'"
      ]
     },
     "metadata": {},
     "output_type": "display_data"
    },
    {
     "data": {
      "text/plain": [
       "{'data': {'createUser': {'createdAt': '2022-05-02T00:55:19.203Z'}}}"
      ]
     },
     "metadata": {},
     "output_type": "display_data"
    },
    {
     "data": {
      "text/plain": [
       "'mutation{createUser(input:{\\n        name:\"Tristan Andersen\"\\n        address:\"9268 Guldborgvej, Viby J., Syddanmark, Denmark, 87161\"\\n        description:\"from randomuser.me\"\\n        dob:\"1946-11-10T01:37:22.154Z\"\\n        imageUrl:\"https://randomuser.me/api/portraits/thumb/men/31.jpg\"\\n    }) {createdAt} }'"
      ]
     },
     "metadata": {},
     "output_type": "display_data"
    },
    {
     "data": {
      "text/plain": [
       "{'data': {'createUser': {'createdAt': '2022-05-02T00:55:19.441Z'}}}"
      ]
     },
     "metadata": {},
     "output_type": "display_data"
    },
    {
     "data": {
      "text/plain": [
       "'mutation{createUser(input:{\\n        name:\"Noemi Joly\"\\n        address:\"1551 Place de L\\'Europe, Gränichen, Genève, Switzerland, 4512\"\\n        description:\"from randomuser.me\"\\n        dob:\"1985-08-04T02:21:32.708Z\"\\n        imageUrl:\"https://randomuser.me/api/portraits/thumb/women/74.jpg\"\\n    }) {createdAt} }'"
      ]
     },
     "metadata": {},
     "output_type": "display_data"
    },
    {
     "data": {
      "text/plain": [
       "{'data': {'createUser': {'createdAt': '2022-05-02T00:55:19.707Z'}}}"
      ]
     },
     "metadata": {},
     "output_type": "display_data"
    },
    {
     "data": {
      "text/plain": [
       "'mutation{createUser(input:{\\n        name:\"Scott Harris\"\\n        address:\"1239 The Crescent, Ely, Kent, United Kingdom, PU7 7ZB\"\\n        description:\"from randomuser.me\"\\n        dob:\"1992-04-02T10:15:31.678Z\"\\n        imageUrl:\"https://randomuser.me/api/portraits/thumb/men/86.jpg\"\\n    }) {createdAt} }'"
      ]
     },
     "metadata": {},
     "output_type": "display_data"
    },
    {
     "data": {
      "text/plain": [
       "{'data': {'createUser': {'createdAt': '2022-05-02T00:55:19.971Z'}}}"
      ]
     },
     "metadata": {},
     "output_type": "display_data"
    },
    {
     "data": {
      "text/plain": [
       "'mutation{createUser(input:{\\n        name:\"Violet Lewis\"\\n        address:\"2455 Emerson Street, Palmerston North, Southland, New Zealand, 31322\"\\n        description:\"from randomuser.me\"\\n        dob:\"1983-03-08T06:31:37.684Z\"\\n        imageUrl:\"https://randomuser.me/api/portraits/thumb/women/14.jpg\"\\n    }) {createdAt} }'"
      ]
     },
     "metadata": {},
     "output_type": "display_data"
    },
    {
     "data": {
      "text/plain": [
       "{'data': {'createUser': {'createdAt': '2022-05-02T00:55:20.222Z'}}}"
      ]
     },
     "metadata": {},
     "output_type": "display_data"
    },
    {
     "data": {
      "text/plain": [
       "'mutation{createUser(input:{\\n        name:\"Esperanza Esteban\"\\n        address:\"638 Calle de Argumosa, Alcobendas, País Vasco, Spain, 27023\"\\n        description:\"from randomuser.me\"\\n        dob:\"1997-04-15T18:53:35.263Z\"\\n        imageUrl:\"https://randomuser.me/api/portraits/thumb/women/4.jpg\"\\n    }) {createdAt} }'"
      ]
     },
     "metadata": {},
     "output_type": "display_data"
    },
    {
     "data": {
      "text/plain": [
       "{'data': {'createUser': {'createdAt': '2022-05-02T00:55:20.472Z'}}}"
      ]
     },
     "metadata": {},
     "output_type": "display_data"
    },
    {
     "data": {
      "text/plain": [
       "'mutation{createUser(input:{\\n        name:\"Sjirk Berben\"\\n        address:\"9545 Jan Ten Brinkstraat, Sint Philipsland, Utrecht, Netherlands, 66819\"\\n        description:\"from randomuser.me\"\\n        dob:\"1987-04-14T14:02:59.668Z\"\\n        imageUrl:\"https://randomuser.me/api/portraits/thumb/men/51.jpg\"\\n    }) {createdAt} }'"
      ]
     },
     "metadata": {},
     "output_type": "display_data"
    },
    {
     "data": {
      "text/plain": [
       "{'data': {'createUser': {'createdAt': '2022-05-02T00:55:20.750Z'}}}"
      ]
     },
     "metadata": {},
     "output_type": "display_data"
    },
    {
     "data": {
      "text/plain": [
       "'mutation{createUser(input:{\\n        name:\"Eliza Hanson\"\\n        address:\"5696 Station Road, Ballina, Tipperary, Ireland, 71549\"\\n        description:\"from randomuser.me\"\\n        dob:\"1990-05-23T04:21:09.800Z\"\\n        imageUrl:\"https://randomuser.me/api/portraits/thumb/women/39.jpg\"\\n    }) {createdAt} }'"
      ]
     },
     "metadata": {},
     "output_type": "display_data"
    },
    {
     "data": {
      "text/plain": [
       "{'data': {'createUser': {'createdAt': '2022-05-02T00:55:21.024Z'}}}"
      ]
     },
     "metadata": {},
     "output_type": "display_data"
    },
    {
     "data": {
      "text/plain": [
       "'mutation{createUser(input:{\\n        name:\"Lucas Mackay\"\\n        address:\"2554 Lakeview Ave, Oakville, Yukon, Canada, R5X 7I6\"\\n        description:\"from randomuser.me\"\\n        dob:\"1970-03-31T18:52:28.951Z\"\\n        imageUrl:\"https://randomuser.me/api/portraits/thumb/men/3.jpg\"\\n    }) {createdAt} }'"
      ]
     },
     "metadata": {},
     "output_type": "display_data"
    },
    {
     "data": {
      "text/plain": [
       "{'data': {'createUser': {'createdAt': '2022-05-02T00:55:21.267Z'}}}"
      ]
     },
     "metadata": {},
     "output_type": "display_data"
    },
    {
     "data": {
      "text/plain": [
       "'mutation{createUser(input:{\\n        name:\"Zelaine Ferreira\"\\n        address:\"7204 Rua Principal, Ipatinga, Rio de Janeiro, Brazil, 86859\"\\n        description:\"from randomuser.me\"\\n        dob:\"1947-07-31T08:56:34.801Z\"\\n        imageUrl:\"https://randomuser.me/api/portraits/thumb/women/50.jpg\"\\n    }) {createdAt} }'"
      ]
     },
     "metadata": {},
     "output_type": "display_data"
    },
    {
     "data": {
      "text/plain": [
       "{'data': {'createUser': {'createdAt': '2022-05-02T00:55:21.490Z'}}}"
      ]
     },
     "metadata": {},
     "output_type": "display_data"
    },
    {
     "data": {
      "text/plain": [
       "'mutation{createUser(input:{\\n        name:\"Maja Mortensen\"\\n        address:\"4760 Parkvænget, Horsens, Syddanmark, Denmark, 79845\"\\n        description:\"from randomuser.me\"\\n        dob:\"1982-10-23T20:25:48.544Z\"\\n        imageUrl:\"https://randomuser.me/api/portraits/thumb/women/77.jpg\"\\n    }) {createdAt} }'"
      ]
     },
     "metadata": {},
     "output_type": "display_data"
    },
    {
     "data": {
      "text/plain": [
       "{'data': {'createUser': {'createdAt': '2022-05-02T00:55:21.745Z'}}}"
      ]
     },
     "metadata": {},
     "output_type": "display_data"
    },
    {
     "data": {
      "text/plain": [
       "'mutation{createUser(input:{\\n        name:\"Corentin Olivier\"\\n        address:\"3351 Rue Pasteur, Le Mans, Eure, France, 78276\"\\n        description:\"from randomuser.me\"\\n        dob:\"1998-07-09T14:01:10.161Z\"\\n        imageUrl:\"https://randomuser.me/api/portraits/thumb/men/58.jpg\"\\n    }) {createdAt} }'"
      ]
     },
     "metadata": {},
     "output_type": "display_data"
    },
    {
     "data": {
      "text/plain": [
       "{'data': {'createUser': {'createdAt': '2022-05-02T00:55:22.008Z'}}}"
      ]
     },
     "metadata": {},
     "output_type": "display_data"
    },
    {
     "data": {
      "text/plain": [
       "'mutation{createUser(input:{\\n        name:\"Lisa Murphy\"\\n        address:\"3907 School Lane, Truro, Merseyside, United Kingdom, AU4C 1GQ\"\\n        description:\"from randomuser.me\"\\n        dob:\"1959-07-18T12:48:21.186Z\"\\n        imageUrl:\"https://randomuser.me/api/portraits/thumb/women/10.jpg\"\\n    }) {createdAt} }'"
      ]
     },
     "metadata": {},
     "output_type": "display_data"
    },
    {
     "data": {
      "text/plain": [
       "{'data': {'createUser': {'createdAt': '2022-05-02T00:55:22.268Z'}}}"
      ]
     },
     "metadata": {},
     "output_type": "display_data"
    },
    {
     "data": {
      "text/plain": [
       "'mutation{createUser(input:{\\n        name:\"Raymond Kunst\"\\n        address:\"4360 Kapellenweg, Bad Berleburg, Sachsen, Germany, 32616\"\\n        description:\"from randomuser.me\"\\n        dob:\"1959-11-12T22:55:55.375Z\"\\n        imageUrl:\"https://randomuser.me/api/portraits/thumb/men/52.jpg\"\\n    }) {createdAt} }'"
      ]
     },
     "metadata": {},
     "output_type": "display_data"
    },
    {
     "data": {
      "text/plain": [
       "{'data': {'createUser': {'createdAt': '2022-05-02T00:55:22.507Z'}}}"
      ]
     },
     "metadata": {},
     "output_type": "display_data"
    },
    {
     "data": {
      "text/plain": [
       "'mutation{createUser(input:{\\n        name:\"Marta Jimenez\"\\n        address:\"8098 Calle Covadonga, Toledo, Canarias, Spain, 35030\"\\n        description:\"from randomuser.me\"\\n        dob:\"1958-08-27T09:23:22.828Z\"\\n        imageUrl:\"https://randomuser.me/api/portraits/thumb/women/31.jpg\"\\n    }) {createdAt} }'"
      ]
     },
     "metadata": {},
     "output_type": "display_data"
    },
    {
     "data": {
      "text/plain": [
       "{'data': {'createUser': {'createdAt': '2022-05-02T00:55:22.741Z'}}}"
      ]
     },
     "metadata": {},
     "output_type": "display_data"
    },
    {
     "data": {
      "text/plain": [
       "'mutation{createUser(input:{\\n        name:\"Ibrahim Mathieu\"\\n        address:\"2332 Boulevard de Balmont, Stettlen, Luzern, Switzerland, 7261\"\\n        description:\"from randomuser.me\"\\n        dob:\"1949-01-02T11:04:30.840Z\"\\n        imageUrl:\"https://randomuser.me/api/portraits/thumb/men/76.jpg\"\\n    }) {createdAt} }'"
      ]
     },
     "metadata": {},
     "output_type": "display_data"
    },
    {
     "data": {
      "text/plain": [
       "{'data': {'createUser': {'createdAt': '2022-05-02T00:55:22.996Z'}}}"
      ]
     },
     "metadata": {},
     "output_type": "display_data"
    },
    {
     "data": {
      "text/plain": [
       "'mutation{createUser(input:{\\n        name:\"Adam Johansen\"\\n        address:\"5607 Højdedraget, Randers Nø, Sjælland, Denmark, 10464\"\\n        description:\"from randomuser.me\"\\n        dob:\"1975-06-30T20:05:59.614Z\"\\n        imageUrl:\"https://randomuser.me/api/portraits/thumb/men/67.jpg\"\\n    }) {createdAt} }'"
      ]
     },
     "metadata": {},
     "output_type": "display_data"
    },
    {
     "data": {
      "text/plain": [
       "{'data': {'createUser': {'createdAt': '2022-05-02T00:55:23.239Z'}}}"
      ]
     },
     "metadata": {},
     "output_type": "display_data"
    },
    {
     "data": {
      "text/plain": [
       "'mutation{createUser(input:{\\n        name:\"Antoine Denys\"\\n        address:\"8387 Concession Road 6, Alma, Nunavut, Canada, V0F 6E9\"\\n        description:\"from randomuser.me\"\\n        dob:\"1995-07-21T03:48:42.286Z\"\\n        imageUrl:\"https://randomuser.me/api/portraits/thumb/men/29.jpg\"\\n    }) {createdAt} }'"
      ]
     },
     "metadata": {},
     "output_type": "display_data"
    },
    {
     "data": {
      "text/plain": [
       "{'data': {'createUser': {'createdAt': '2022-05-02T00:55:23.485Z'}}}"
      ]
     },
     "metadata": {},
     "output_type": "display_data"
    },
    {
     "data": {
      "text/plain": [
       "'mutation{createUser(input:{\\n        name:\"Noah Pedersen\"\\n        address:\"174 Lodsvej, Gjerlev, Syddanmark, Denmark, 75477\"\\n        description:\"from randomuser.me\"\\n        dob:\"1980-03-31T16:22:00.512Z\"\\n        imageUrl:\"https://randomuser.me/api/portraits/thumb/men/81.jpg\"\\n    }) {createdAt} }'"
      ]
     },
     "metadata": {},
     "output_type": "display_data"
    },
    {
     "data": {
      "text/plain": [
       "{'data': {'createUser': {'createdAt': '2022-05-02T00:55:23.970Z'}}}"
      ]
     },
     "metadata": {},
     "output_type": "display_data"
    },
    {
     "data": {
      "text/plain": [
       "'mutation{createUser(input:{\\n        name:\"Deniz Çetin\"\\n        address:\"4208 Bağdat Cd, Hakkâri, Şanlıurfa, Turkey, 74278\"\\n        description:\"from randomuser.me\"\\n        dob:\"1979-08-25T02:42:20.356Z\"\\n        imageUrl:\"https://randomuser.me/api/portraits/thumb/men/77.jpg\"\\n    }) {createdAt} }'"
      ]
     },
     "metadata": {},
     "output_type": "display_data"
    },
    {
     "data": {
      "text/plain": [
       "{'data': {'createUser': {'createdAt': '2022-05-02T00:55:24.219Z'}}}"
      ]
     },
     "metadata": {},
     "output_type": "display_data"
    },
    {
     "data": {
      "text/plain": [
       "'mutation{createUser(input:{\\n        name:\"Leona White\"\\n        address:\"7992 Mcgowen St, Little Rock, Massachusetts, United States, 70475\"\\n        description:\"from randomuser.me\"\\n        dob:\"1981-11-27T17:44:58.695Z\"\\n        imageUrl:\"https://randomuser.me/api/portraits/thumb/women/37.jpg\"\\n    }) {createdAt} }'"
      ]
     },
     "metadata": {},
     "output_type": "display_data"
    },
    {
     "data": {
      "text/plain": [
       "{'data': {'createUser': {'createdAt': '2022-05-02T00:55:24.519Z'}}}"
      ]
     },
     "metadata": {},
     "output_type": "display_data"
    },
    {
     "data": {
      "text/plain": [
       "'mutation{createUser(input:{\\n        name:\"Oskari Peltonen\"\\n        address:\"5850 Visiokatu, Riihimäki, Northern Savonia, Finland, 35348\"\\n        description:\"from randomuser.me\"\\n        dob:\"1993-09-25T02:07:16.448Z\"\\n        imageUrl:\"https://randomuser.me/api/portraits/thumb/men/1.jpg\"\\n    }) {createdAt} }'"
      ]
     },
     "metadata": {},
     "output_type": "display_data"
    },
    {
     "data": {
      "text/plain": [
       "{'data': {'createUser': {'createdAt': '2022-05-02T00:55:24.837Z'}}}"
      ]
     },
     "metadata": {},
     "output_type": "display_data"
    },
    {
     "data": {
      "text/plain": [
       "'mutation{createUser(input:{\\n        name:\"Gonca Körmükçü\"\\n        address:\"84 Bağdat Cd, Afyonkarahisar, Kayseri, Turkey, 49797\"\\n        description:\"from randomuser.me\"\\n        dob:\"1965-11-11T20:59:26.609Z\"\\n        imageUrl:\"https://randomuser.me/api/portraits/thumb/women/14.jpg\"\\n    }) {createdAt} }'"
      ]
     },
     "metadata": {},
     "output_type": "display_data"
    },
    {
     "data": {
      "text/plain": [
       "{'data': {'createUser': {'createdAt': '2022-05-02T00:55:25.152Z'}}}"
      ]
     },
     "metadata": {},
     "output_type": "display_data"
    },
    {
     "data": {
      "text/plain": [
       "'mutation{createUser(input:{\\n        name:\"Erwin Clement\"\\n        address:\"6551 Rue du Château, Rüdlingen, Neuchâtel, Switzerland, 5996\"\\n        description:\"from randomuser.me\"\\n        dob:\"1975-04-01T01:17:18.337Z\"\\n        imageUrl:\"https://randomuser.me/api/portraits/thumb/men/14.jpg\"\\n    }) {createdAt} }'"
      ]
     },
     "metadata": {},
     "output_type": "display_data"
    },
    {
     "data": {
      "text/plain": [
       "{'data': {'createUser': {'createdAt': '2022-05-02T00:55:25.483Z'}}}"
      ]
     },
     "metadata": {},
     "output_type": "display_data"
    },
    {
     "data": {
      "text/plain": [
       "'mutation{createUser(input:{\\n        name:\"Danielle Mason\"\\n        address:\"4763 Mill Lane, Norwich, Northumberland, United Kingdom, E0 8FA\"\\n        description:\"from randomuser.me\"\\n        dob:\"1949-07-07T08:16:24.374Z\"\\n        imageUrl:\"https://randomuser.me/api/portraits/thumb/women/36.jpg\"\\n    }) {createdAt} }'"
      ]
     },
     "metadata": {},
     "output_type": "display_data"
    },
    {
     "data": {
      "text/plain": [
       "{'data': {'createUser': {'createdAt': '2022-05-02T00:55:25.785Z'}}}"
      ]
     },
     "metadata": {},
     "output_type": "display_data"
    },
    {
     "data": {
      "text/plain": [
       "'mutation{createUser(input:{\\n        name:\"Zoe Claire\"\\n        address:\"7040 George St, Stratford, Saskatchewan, Canada, U6K 4T4\"\\n        description:\"from randomuser.me\"\\n        dob:\"1948-12-09T23:42:11.837Z\"\\n        imageUrl:\"https://randomuser.me/api/portraits/thumb/women/42.jpg\"\\n    }) {createdAt} }'"
      ]
     },
     "metadata": {},
     "output_type": "display_data"
    },
    {
     "data": {
      "text/plain": [
       "{'data': {'createUser': {'createdAt': '2022-05-02T00:55:26.139Z'}}}"
      ]
     },
     "metadata": {},
     "output_type": "display_data"
    },
    {
     "data": {
      "text/plain": [
       "'mutation{createUser(input:{\\n        name:\"الینا گلشن\"\\n        address:\"7307 مقدس اردبیلی, بجنورد, چهارمحال و بختیاری, Iran, 63726\"\\n        description:\"from randomuser.me\"\\n        dob:\"1965-01-22T21:23:53.598Z\"\\n        imageUrl:\"https://randomuser.me/api/portraits/thumb/women/7.jpg\"\\n    }) {createdAt} }'"
      ]
     },
     "metadata": {},
     "output_type": "display_data"
    },
    {
     "data": {
      "text/plain": [
       "{'data': {'createUser': {'createdAt': '2022-05-02T00:55:26.385Z'}}}"
      ]
     },
     "metadata": {},
     "output_type": "display_data"
    },
    {
     "data": {
      "text/plain": [
       "'mutation{createUser(input:{\\n        name:\"Alexandre Neu\"\\n        address:\"3475 Danziger Straße, Bautzen, Schleswig-Holstein, Germany, 17272\"\\n        description:\"from randomuser.me\"\\n        dob:\"1957-11-15T01:10:29.659Z\"\\n        imageUrl:\"https://randomuser.me/api/portraits/thumb/men/73.jpg\"\\n    }) {createdAt} }'"
      ]
     },
     "metadata": {},
     "output_type": "display_data"
    },
    {
     "data": {
      "text/plain": [
       "{'data': {'createUser': {'createdAt': '2022-05-02T00:55:26.660Z'}}}"
      ]
     },
     "metadata": {},
     "output_type": "display_data"
    },
    {
     "data": {
      "text/plain": [
       "'mutation{createUser(input:{\\n        name:\"Lea Denys\"\\n        address:\"828 Balmoral St, Princeton, Newfoundland and Labrador, Canada, G8F 1N9\"\\n        description:\"from randomuser.me\"\\n        dob:\"1966-10-17T01:32:20.888Z\"\\n        imageUrl:\"https://randomuser.me/api/portraits/thumb/women/11.jpg\"\\n    }) {createdAt} }'"
      ]
     },
     "metadata": {},
     "output_type": "display_data"
    },
    {
     "data": {
      "text/plain": [
       "{'data': {'createUser': {'createdAt': '2022-05-02T00:55:26.919Z'}}}"
      ]
     },
     "metadata": {},
     "output_type": "display_data"
    },
    {
     "data": {
      "text/plain": [
       "'mutation{createUser(input:{\\n        name:\"Cassandre Blanchard\"\\n        address:\"307 Rue Bony, Villeurbanne, Dordogne, France, 99207\"\\n        description:\"from randomuser.me\"\\n        dob:\"1956-11-16T18:35:49.190Z\"\\n        imageUrl:\"https://randomuser.me/api/portraits/thumb/women/27.jpg\"\\n    }) {createdAt} }'"
      ]
     },
     "metadata": {},
     "output_type": "display_data"
    },
    {
     "data": {
      "text/plain": [
       "{'data': {'createUser': {'createdAt': '2022-05-02T00:55:27.323Z'}}}"
      ]
     },
     "metadata": {},
     "output_type": "display_data"
    },
    {
     "data": {
      "text/plain": [
       "'mutation{createUser(input:{\\n        name:\"Mie Skullerud\"\\n        address:\"2903 Halvdan Svartes gate, Åndalsnes, Møre og Romsdal, Norway, 0956\"\\n        description:\"from randomuser.me\"\\n        dob:\"1994-07-29T11:58:38.742Z\"\\n        imageUrl:\"https://randomuser.me/api/portraits/thumb/women/95.jpg\"\\n    }) {createdAt} }'"
      ]
     },
     "metadata": {},
     "output_type": "display_data"
    },
    {
     "data": {
      "text/plain": [
       "{'data': {'createUser': {'createdAt': '2022-05-02T00:55:27.598Z'}}}"
      ]
     },
     "metadata": {},
     "output_type": "display_data"
    },
    {
     "data": {
      "text/plain": [
       "'mutation{createUser(input:{\\n        name:\"Isabelle Marshall\"\\n        address:\"6456 Stanley Road, Dundee, Wiltshire, United Kingdom, BY8D 2YQ\"\\n        description:\"from randomuser.me\"\\n        dob:\"1991-05-26T12:16:30.414Z\"\\n        imageUrl:\"https://randomuser.me/api/portraits/thumb/women/53.jpg\"\\n    }) {createdAt} }'"
      ]
     },
     "metadata": {},
     "output_type": "display_data"
    },
    {
     "data": {
      "text/plain": [
       "{'data': {'createUser': {'createdAt': '2022-05-02T00:55:27.868Z'}}}"
      ]
     },
     "metadata": {},
     "output_type": "display_data"
    },
    {
     "data": {
      "text/plain": [
       "'mutation{createUser(input:{\\n        name:\"Jade Mackay\"\\n        address:\"8408 Richmond Ave, Westport, Northwest Territories, Canada, T3X 0I4\"\\n        description:\"from randomuser.me\"\\n        dob:\"1973-08-23T04:56:57.144Z\"\\n        imageUrl:\"https://randomuser.me/api/portraits/thumb/women/29.jpg\"\\n    }) {createdAt} }'"
      ]
     },
     "metadata": {},
     "output_type": "display_data"
    },
    {
     "data": {
      "text/plain": [
       "{'data': {'createUser': {'createdAt': '2022-05-02T00:55:28.150Z'}}}"
      ]
     },
     "metadata": {},
     "output_type": "display_data"
    },
    {
     "data": {
      "text/plain": [
       "'mutation{createUser(input:{\\n        name:\"Alba Kildahl\"\\n        address:\"2728 Parkveien, Grodås, Bergen, Norway, 5519\"\\n        description:\"from randomuser.me\"\\n        dob:\"1953-10-30T17:41:51.523Z\"\\n        imageUrl:\"https://randomuser.me/api/portraits/thumb/women/57.jpg\"\\n    }) {createdAt} }'"
      ]
     },
     "metadata": {},
     "output_type": "display_data"
    },
    {
     "data": {
      "text/plain": [
       "{'data': {'createUser': {'createdAt': '2022-05-02T00:55:28.391Z'}}}"
      ]
     },
     "metadata": {},
     "output_type": "display_data"
    },
    {
     "data": {
      "text/plain": [
       "'mutation{createUser(input:{\\n        name:\"Clyde Walters\"\\n        address:\"7558 New Road, St Davids, County Tyrone, United Kingdom, S9 7RE\"\\n        description:\"from randomuser.me\"\\n        dob:\"1989-05-20T21:01:45.304Z\"\\n        imageUrl:\"https://randomuser.me/api/portraits/thumb/men/83.jpg\"\\n    }) {createdAt} }'"
      ]
     },
     "metadata": {},
     "output_type": "display_data"
    },
    {
     "data": {
      "text/plain": [
       "{'data': {'createUser': {'createdAt': '2022-05-02T00:55:28.631Z'}}}"
      ]
     },
     "metadata": {},
     "output_type": "display_data"
    },
    {
     "data": {
      "text/plain": [
       "'mutation{createUser(input:{\\n        name:\"Caitlin Wright\"\\n        address:\"6401 Tay Street, Taupo, Canterbury, New Zealand, 87466\"\\n        description:\"from randomuser.me\"\\n        dob:\"1962-01-09T12:39:38.926Z\"\\n        imageUrl:\"https://randomuser.me/api/portraits/thumb/women/17.jpg\"\\n    }) {createdAt} }'"
      ]
     },
     "metadata": {},
     "output_type": "display_data"
    },
    {
     "data": {
      "text/plain": [
       "{'data': {'createUser': {'createdAt': '2022-05-02T00:55:28.897Z'}}}"
      ]
     },
     "metadata": {},
     "output_type": "display_data"
    },
    {
     "data": {
      "text/plain": [
       "'mutation{createUser(input:{\\n        name:\"Lyna Fernandez\"\\n        address:\"5501 Montée du Chemin-Neuf, Aulnay-sous-Bois, Haute-Marne, France, 63272\"\\n        description:\"from randomuser.me\"\\n        dob:\"1949-05-21T19:56:15.873Z\"\\n        imageUrl:\"https://randomuser.me/api/portraits/thumb/women/86.jpg\"\\n    }) {createdAt} }'"
      ]
     },
     "metadata": {},
     "output_type": "display_data"
    },
    {
     "data": {
      "text/plain": [
       "{'data': {'createUser': {'createdAt': '2022-05-02T00:55:29.119Z'}}}"
      ]
     },
     "metadata": {},
     "output_type": "display_data"
    },
    {
     "data": {
      "text/plain": [
       "'mutation{createUser(input:{\\n        name:\"Lascívia Vieira\"\\n        address:\"2094 Rua José Bonifácio , Águas Lindas de Goiás, Amazonas, Brazil, 78466\"\\n        description:\"from randomuser.me\"\\n        dob:\"1945-04-24T21:23:04.431Z\"\\n        imageUrl:\"https://randomuser.me/api/portraits/thumb/women/27.jpg\"\\n    }) {createdAt} }'"
      ]
     },
     "metadata": {},
     "output_type": "display_data"
    },
    {
     "data": {
      "text/plain": [
       "{'data': {'createUser': {'createdAt': '2022-05-02T00:55:29.381Z'}}}"
      ]
     },
     "metadata": {},
     "output_type": "display_data"
    },
    {
     "data": {
      "text/plain": [
       "'mutation{createUser(input:{\\n        name:\"Virgill Gebbink\"\\n        address:\"6374 Duiventorenstraat, Zandberg, Noord-Holland, Netherlands, 69926\"\\n        description:\"from randomuser.me\"\\n        dob:\"1978-05-06T08:30:38.777Z\"\\n        imageUrl:\"https://randomuser.me/api/portraits/thumb/men/68.jpg\"\\n    }) {createdAt} }'"
      ]
     },
     "metadata": {},
     "output_type": "display_data"
    },
    {
     "data": {
      "text/plain": [
       "{'data': {'createUser': {'createdAt': '2022-05-02T00:55:29.671Z'}}}"
      ]
     },
     "metadata": {},
     "output_type": "display_data"
    },
    {
     "data": {
      "text/plain": [
       "'mutation{createUser(input:{\\n        name:\"Clifton Ross\"\\n        address:\"2001 Lakeview St, Palm Bay, Mississippi, United States, 31029\"\\n        description:\"from randomuser.me\"\\n        dob:\"1949-08-09T08:17:40.419Z\"\\n        imageUrl:\"https://randomuser.me/api/portraits/thumb/men/81.jpg\"\\n    }) {createdAt} }'"
      ]
     },
     "metadata": {},
     "output_type": "display_data"
    },
    {
     "data": {
      "text/plain": [
       "{'data': {'createUser': {'createdAt': '2022-05-02T00:55:29.961Z'}}}"
      ]
     },
     "metadata": {},
     "output_type": "display_data"
    },
    {
     "data": {
      "text/plain": [
       "'mutation{createUser(input:{\\n        name:\"Juan Neal\"\\n        address:\"5162 The Crescent, Dunboyne, Dublin City, Ireland, 33181\"\\n        description:\"from randomuser.me\"\\n        dob:\"1974-07-24T15:11:53.876Z\"\\n        imageUrl:\"https://randomuser.me/api/portraits/thumb/men/19.jpg\"\\n    }) {createdAt} }'"
      ]
     },
     "metadata": {},
     "output_type": "display_data"
    },
    {
     "data": {
      "text/plain": [
       "{'data': {'createUser': {'createdAt': '2022-05-02T00:55:30.211Z'}}}"
      ]
     },
     "metadata": {},
     "output_type": "display_data"
    },
    {
     "data": {
      "text/plain": [
       "'mutation{createUser(input:{\\n        name:\"Sara Reynolds\"\\n        address:\"187 Royal Ln, Anna, North Carolina, United States, 10580\"\\n        description:\"from randomuser.me\"\\n        dob:\"1971-06-11T04:34:05.802Z\"\\n        imageUrl:\"https://randomuser.me/api/portraits/thumb/women/79.jpg\"\\n    }) {createdAt} }'"
      ]
     },
     "metadata": {},
     "output_type": "display_data"
    },
    {
     "data": {
      "text/plain": [
       "{'data': {'createUser': {'createdAt': '2022-05-02T00:55:30.476Z'}}}"
      ]
     },
     "metadata": {},
     "output_type": "display_data"
    },
    {
     "data": {
      "text/plain": [
       "'mutation{createUser(input:{\\n        name:\"Pål Røkke\"\\n        address:\"6629 Bryggegata, Namsos, Møre og Romsdal, Norway, 0060\"\\n        description:\"from randomuser.me\"\\n        dob:\"1962-05-26T18:51:31.508Z\"\\n        imageUrl:\"https://randomuser.me/api/portraits/thumb/men/41.jpg\"\\n    }) {createdAt} }'"
      ]
     },
     "metadata": {},
     "output_type": "display_data"
    },
    {
     "data": {
      "text/plain": [
       "{'data': {'createUser': {'createdAt': '2022-05-02T00:55:30.712Z'}}}"
      ]
     },
     "metadata": {},
     "output_type": "display_data"
    },
    {
     "data": {
      "text/plain": [
       "'mutation{createUser(input:{\\n        name:\"Wallace Fox\"\\n        address:\"2374 Ash Dr, Portland, Idaho, United States, 67833\"\\n        description:\"from randomuser.me\"\\n        dob:\"1949-06-21T18:46:48.846Z\"\\n        imageUrl:\"https://randomuser.me/api/portraits/thumb/men/8.jpg\"\\n    }) {createdAt} }'"
      ]
     },
     "metadata": {},
     "output_type": "display_data"
    },
    {
     "data": {
      "text/plain": [
       "{'data': {'createUser': {'createdAt': '2022-05-02T00:55:31.091Z'}}}"
      ]
     },
     "metadata": {},
     "output_type": "display_data"
    },
    {
     "data": {
      "text/plain": [
       "'mutation{createUser(input:{\\n        name:\"Alfred Sims\"\\n        address:\"1473 Blossom Hill Rd, Pasadena, Arizona, United States, 85191\"\\n        description:\"from randomuser.me\"\\n        dob:\"1962-01-28T09:11:52.579Z\"\\n        imageUrl:\"https://randomuser.me/api/portraits/thumb/men/1.jpg\"\\n    }) {createdAt} }'"
      ]
     },
     "metadata": {},
     "output_type": "display_data"
    },
    {
     "data": {
      "text/plain": [
       "{'data': {'createUser': {'createdAt': '2022-05-02T00:55:31.337Z'}}}"
      ]
     },
     "metadata": {},
     "output_type": "display_data"
    },
    {
     "data": {
      "text/plain": [
       "'mutation{createUser(input:{\\n        name:\"Charlotte Wong\"\\n        address:\"5491 36th Ave, Alma, Nova Scotia, Canada, G2G 5Z9\"\\n        description:\"from randomuser.me\"\\n        dob:\"1964-10-02T17:28:58.793Z\"\\n        imageUrl:\"https://randomuser.me/api/portraits/thumb/women/79.jpg\"\\n    }) {createdAt} }'"
      ]
     },
     "metadata": {},
     "output_type": "display_data"
    },
    {
     "data": {
      "text/plain": [
       "{'data': {'createUser': {'createdAt': '2022-05-02T00:55:31.622Z'}}}"
      ]
     },
     "metadata": {},
     "output_type": "display_data"
    },
    {
     "data": {
      "text/plain": [
       "'mutation{createUser(input:{\\n        name:\"Celestine Durand\"\\n        address:\"9572 Place de L\\'Europe, Caen, Isère, France, 76601\"\\n        description:\"from randomuser.me\"\\n        dob:\"1962-10-12T22:26:57.335Z\"\\n        imageUrl:\"https://randomuser.me/api/portraits/thumb/women/64.jpg\"\\n    }) {createdAt} }'"
      ]
     },
     "metadata": {},
     "output_type": "display_data"
    },
    {
     "data": {
      "text/plain": [
       "{'data': {'createUser': {'createdAt': '2022-05-02T00:55:31.889Z'}}}"
      ]
     },
     "metadata": {},
     "output_type": "display_data"
    },
    {
     "data": {
      "text/plain": [
       "'mutation{createUser(input:{\\n        name:\"Roseni Rezende\"\\n        address:\"6543 Rua Rui Barbosa , Teresópolis, Santa Catarina, Brazil, 45870\"\\n        description:\"from randomuser.me\"\\n        dob:\"1983-09-26T06:59:18.536Z\"\\n        imageUrl:\"https://randomuser.me/api/portraits/thumb/women/8.jpg\"\\n    }) {createdAt} }'"
      ]
     },
     "metadata": {},
     "output_type": "display_data"
    },
    {
     "data": {
      "text/plain": [
       "{'data': {'createUser': {'createdAt': '2022-05-02T00:55:33.219Z'}}}"
      ]
     },
     "metadata": {},
     "output_type": "display_data"
    },
    {
     "data": {
      "text/plain": [
       "'mutation{createUser(input:{\\n        name:\"Ava Hamilton\"\\n        address:\"932 Lone Wolf Trail, San Mateo, Oklahoma, United States, 16598\"\\n        description:\"from randomuser.me\"\\n        dob:\"1948-04-20T21:59:30.412Z\"\\n        imageUrl:\"https://randomuser.me/api/portraits/thumb/women/83.jpg\"\\n    }) {createdAt} }'"
      ]
     },
     "metadata": {},
     "output_type": "display_data"
    },
    {
     "data": {
      "text/plain": [
       "{'data': {'createUser': {'createdAt': '2022-05-02T00:55:33.483Z'}}}"
      ]
     },
     "metadata": {},
     "output_type": "display_data"
    },
    {
     "data": {
      "text/plain": [
       "'mutation{createUser(input:{\\n        name:\"Tony Martin\"\\n        address:\"1265 Place du 22 Novembre 1943, Montpellier, Seine-Saint-Denis, France, 53700\"\\n        description:\"from randomuser.me\"\\n        dob:\"1998-07-06T18:13:44.701Z\"\\n        imageUrl:\"https://randomuser.me/api/portraits/thumb/men/59.jpg\"\\n    }) {createdAt} }'"
      ]
     },
     "metadata": {},
     "output_type": "display_data"
    },
    {
     "data": {
      "text/plain": [
       "{'data': {'createUser': {'createdAt': '2022-05-02T00:55:33.740Z'}}}"
      ]
     },
     "metadata": {},
     "output_type": "display_data"
    },
    {
     "data": {
      "text/plain": [
       "'mutation{createUser(input:{\\n        name:\"Erwan Moulin\"\\n        address:\"243 Rue du Château, Aulnay-sous-Bois, Finistère, France, 75803\"\\n        description:\"from randomuser.me\"\\n        dob:\"1962-02-20T02:33:33.113Z\"\\n        imageUrl:\"https://randomuser.me/api/portraits/thumb/men/29.jpg\"\\n    }) {createdAt} }'"
      ]
     },
     "metadata": {},
     "output_type": "display_data"
    },
    {
     "data": {
      "text/plain": [
       "{'data': {'createUser': {'createdAt': '2022-05-02T00:55:33.997Z'}}}"
      ]
     },
     "metadata": {},
     "output_type": "display_data"
    },
    {
     "data": {
      "text/plain": [
       "'mutation{createUser(input:{\\n        name:\"Francisco Eckardt\"\\n        address:\"7157 Römerstraße, Quickborn, Hessen, Germany, 98037\"\\n        description:\"from randomuser.me\"\\n        dob:\"1995-03-14T07:22:58.151Z\"\\n        imageUrl:\"https://randomuser.me/api/portraits/thumb/men/65.jpg\"\\n    }) {createdAt} }'"
      ]
     },
     "metadata": {},
     "output_type": "display_data"
    },
    {
     "data": {
      "text/plain": [
       "{'data': {'createUser': {'createdAt': '2022-05-02T00:55:34.231Z'}}}"
      ]
     },
     "metadata": {},
     "output_type": "display_data"
    },
    {
     "data": {
      "text/plain": [
       "'mutation{createUser(input:{\\n        name:\"Aquila Sales\"\\n        address:\"13 Rua Treze , Franca, Minas Gerais, Brazil, 25186\"\\n        description:\"from randomuser.me\"\\n        dob:\"1954-01-13T22:57:35.746Z\"\\n        imageUrl:\"https://randomuser.me/api/portraits/thumb/men/28.jpg\"\\n    }) {createdAt} }'"
      ]
     },
     "metadata": {},
     "output_type": "display_data"
    },
    {
     "data": {
      "text/plain": [
       "{'data': {'createUser': {'createdAt': '2022-05-02T00:55:34.519Z'}}}"
      ]
     },
     "metadata": {},
     "output_type": "display_data"
    },
    {
     "data": {
      "text/plain": [
       "'mutation{createUser(input:{\\n        name:\"Timothee Bourgeois\"\\n        address:\"4417 Rue de L\\'Abbé-Patureau, Courbevoie, Lot-et-Garonne, France, 54498\"\\n        description:\"from randomuser.me\"\\n        dob:\"1966-01-27T01:47:00.866Z\"\\n        imageUrl:\"https://randomuser.me/api/portraits/thumb/men/72.jpg\"\\n    }) {createdAt} }'"
      ]
     },
     "metadata": {},
     "output_type": "display_data"
    },
    {
     "data": {
      "text/plain": [
       "{'data': {'createUser': {'createdAt': '2022-05-02T00:55:34.765Z'}}}"
      ]
     },
     "metadata": {},
     "output_type": "display_data"
    },
    {
     "data": {
      "text/plain": [
       "'mutation{createUser(input:{\\n        name:\"Erwan Marchand\"\\n        address:\"841 Rue du Cardinal-Gerlier, Nantes, Aveyron, France, 90732\"\\n        description:\"from randomuser.me\"\\n        dob:\"1977-12-14T08:33:02.920Z\"\\n        imageUrl:\"https://randomuser.me/api/portraits/thumb/men/78.jpg\"\\n    }) {createdAt} }'"
      ]
     },
     "metadata": {},
     "output_type": "display_data"
    },
    {
     "data": {
      "text/plain": [
       "{'data': {'createUser': {'createdAt': '2022-05-02T00:55:35.012Z'}}}"
      ]
     },
     "metadata": {},
     "output_type": "display_data"
    },
    {
     "data": {
      "text/plain": [
       "'mutation{createUser(input:{\\n        name:\"Amy Cook\"\\n        address:\"2126 Plum St, Cairns, Northern Territory, Australia, 3067\"\\n        description:\"from randomuser.me\"\\n        dob:\"1952-07-05T14:19:43.851Z\"\\n        imageUrl:\"https://randomuser.me/api/portraits/thumb/women/7.jpg\"\\n    }) {createdAt} }'"
      ]
     },
     "metadata": {},
     "output_type": "display_data"
    },
    {
     "data": {
      "text/plain": [
       "{'data': {'createUser': {'createdAt': '2022-05-02T00:55:35.274Z'}}}"
      ]
     },
     "metadata": {},
     "output_type": "display_data"
    },
    {
     "data": {
      "text/plain": [
       "'mutation{createUser(input:{\\n        name:\"Jen Morrison\"\\n        address:\"2679 High Street, Thurles, Carlow, Ireland, 16271\"\\n        description:\"from randomuser.me\"\\n        dob:\"1984-10-09T21:28:45.690Z\"\\n        imageUrl:\"https://randomuser.me/api/portraits/thumb/women/50.jpg\"\\n    }) {createdAt} }'"
      ]
     },
     "metadata": {},
     "output_type": "display_data"
    },
    {
     "data": {
      "text/plain": [
       "{'data': {'createUser': {'createdAt': '2022-05-02T00:55:35.543Z'}}}"
      ]
     },
     "metadata": {},
     "output_type": "display_data"
    },
    {
     "data": {
      "text/plain": [
       "'mutation{createUser(input:{\\n        name:\"Emily Mortensen\"\\n        address:\"1168 Knudskovparken, Aarhus, Midtjylland, Denmark, 78833\"\\n        description:\"from randomuser.me\"\\n        dob:\"1947-01-08T19:55:42.715Z\"\\n        imageUrl:\"https://randomuser.me/api/portraits/thumb/women/92.jpg\"\\n    }) {createdAt} }'"
      ]
     },
     "metadata": {},
     "output_type": "display_data"
    },
    {
     "data": {
      "text/plain": [
       "{'data': {'createUser': {'createdAt': '2022-05-02T00:55:35.800Z'}}}"
      ]
     },
     "metadata": {},
     "output_type": "display_data"
    },
    {
     "data": {
      "text/plain": [
       "'mutation{createUser(input:{\\n        name:\"Charlene Watson\"\\n        address:\"6514 Pockrus Page Rd, Bunbury, Northern Territory, Australia, 2644\"\\n        description:\"from randomuser.me\"\\n        dob:\"1960-06-12T02:49:07.755Z\"\\n        imageUrl:\"https://randomuser.me/api/portraits/thumb/women/21.jpg\"\\n    }) {createdAt} }'"
      ]
     },
     "metadata": {},
     "output_type": "display_data"
    },
    {
     "data": {
      "text/plain": [
       "{'data': {'createUser': {'createdAt': '2022-05-02T00:55:36.089Z'}}}"
      ]
     },
     "metadata": {},
     "output_type": "display_data"
    },
    {
     "data": {
      "text/plain": [
       "'mutation{createUser(input:{\\n        name:\"Angie Fitzpatrick\"\\n        address:\"381 Killarney Road, Letterkenny, Carlow, Ireland, 10474\"\\n        description:\"from randomuser.me\"\\n        dob:\"1954-02-28T18:20:23.368Z\"\\n        imageUrl:\"https://randomuser.me/api/portraits/thumb/women/41.jpg\"\\n    }) {createdAt} }'"
      ]
     },
     "metadata": {},
     "output_type": "display_data"
    },
    {
     "data": {
      "text/plain": [
       "{'data': {'createUser': {'createdAt': '2022-05-02T00:55:36.337Z'}}}"
      ]
     },
     "metadata": {},
     "output_type": "display_data"
    },
    {
     "data": {
      "text/plain": [
       "'mutation{createUser(input:{\\n        name:\"Aubree Knight\"\\n        address:\"1814 St. Catherine St, Hampstead, Ontario, Canada, R5B 4W0\"\\n        description:\"from randomuser.me\"\\n        dob:\"1957-10-23T23:41:36.095Z\"\\n        imageUrl:\"https://randomuser.me/api/portraits/thumb/women/54.jpg\"\\n    }) {createdAt} }'"
      ]
     },
     "metadata": {},
     "output_type": "display_data"
    },
    {
     "data": {
      "text/plain": [
       "{'data': {'createUser': {'createdAt': '2022-05-02T00:55:36.593Z'}}}"
      ]
     },
     "metadata": {},
     "output_type": "display_data"
    },
    {
     "data": {
      "text/plain": [
       "'mutation{createUser(input:{\\n        name:\"Sofia Edwards\"\\n        address:\"3421 Karangahape Road, Gisborne, Southland, New Zealand, 17360\"\\n        description:\"from randomuser.me\"\\n        dob:\"1956-09-15T11:49:49.148Z\"\\n        imageUrl:\"https://randomuser.me/api/portraits/thumb/women/11.jpg\"\\n    }) {createdAt} }'"
      ]
     },
     "metadata": {},
     "output_type": "display_data"
    },
    {
     "data": {
      "text/plain": [
       "{'data': {'createUser': {'createdAt': '2022-05-02T00:55:36.880Z'}}}"
      ]
     },
     "metadata": {},
     "output_type": "display_data"
    },
    {
     "data": {
      "text/plain": [
       "'mutation{createUser(input:{\\n        name:\"Karl Warren\"\\n        address:\"70 Grafton Street, Ardee, Wicklow, Ireland, 47529\"\\n        description:\"from randomuser.me\"\\n        dob:\"1981-01-20T05:32:19.398Z\"\\n        imageUrl:\"https://randomuser.me/api/portraits/thumb/men/12.jpg\"\\n    }) {createdAt} }'"
      ]
     },
     "metadata": {},
     "output_type": "display_data"
    },
    {
     "data": {
      "text/plain": [
       "{'data': {'createUser': {'createdAt': '2022-05-02T00:55:37.144Z'}}}"
      ]
     },
     "metadata": {},
     "output_type": "display_data"
    },
    {
     "data": {
      "text/plain": [
       "'mutation{createUser(input:{\\n        name:\"Haroun Van der Linde\"\\n        address:\"8083 Hodsonstraat, Kaag en Braassem, Noord-Brabant, Netherlands, 26904\"\\n        description:\"from randomuser.me\"\\n        dob:\"1986-10-11T02:36:41.992Z\"\\n        imageUrl:\"https://randomuser.me/api/portraits/thumb/men/94.jpg\"\\n    }) {createdAt} }'"
      ]
     },
     "metadata": {},
     "output_type": "display_data"
    },
    {
     "data": {
      "text/plain": [
       "{'data': {'createUser': {'createdAt': '2022-05-02T00:55:37.379Z'}}}"
      ]
     },
     "metadata": {},
     "output_type": "display_data"
    },
    {
     "data": {
      "text/plain": [
       "'mutation{createUser(input:{\\n        name:\"Oliver Møller\"\\n        address:\"4933 Mosevej, Klitmøller, Danmark, Denmark, 96683\"\\n        description:\"from randomuser.me\"\\n        dob:\"1976-03-11T20:45:08.428Z\"\\n        imageUrl:\"https://randomuser.me/api/portraits/thumb/men/45.jpg\"\\n    }) {createdAt} }'"
      ]
     },
     "metadata": {},
     "output_type": "display_data"
    },
    {
     "data": {
      "text/plain": [
       "{'data': {'createUser': {'createdAt': '2022-05-02T00:55:37.747Z'}}}"
      ]
     },
     "metadata": {},
     "output_type": "display_data"
    },
    {
     "data": {
      "text/plain": [
       "'mutation{createUser(input:{\\n        name:\"Natalie Lewis\"\\n        address:\"534 Ponsonby Road, Blenheim, Bay of Plenty, New Zealand, 83833\"\\n        description:\"from randomuser.me\"\\n        dob:\"1959-09-06T04:06:47.301Z\"\\n        imageUrl:\"https://randomuser.me/api/portraits/thumb/women/63.jpg\"\\n    }) {createdAt} }'"
      ]
     },
     "metadata": {},
     "output_type": "display_data"
    },
    {
     "data": {
      "text/plain": [
       "{'data': {'createUser': {'createdAt': '2022-05-02T00:55:39.029Z'}}}"
      ]
     },
     "metadata": {},
     "output_type": "display_data"
    },
    {
     "data": {
      "text/plain": [
       "'mutation{createUser(input:{\\n        name:\"Audun Juul\"\\n        address:\"8054 Breiens vei, Gvarv, Nord-Trøndelag, Norway, 0555\"\\n        description:\"from randomuser.me\"\\n        dob:\"1946-07-31T18:21:22.071Z\"\\n        imageUrl:\"https://randomuser.me/api/portraits/thumb/men/40.jpg\"\\n    }) {createdAt} }'"
      ]
     },
     "metadata": {},
     "output_type": "display_data"
    },
    {
     "data": {
      "text/plain": [
       "{'data': {'createUser': {'createdAt': '2022-05-02T00:55:39.292Z'}}}"
      ]
     },
     "metadata": {},
     "output_type": "display_data"
    },
    {
     "data": {
      "text/plain": [
       "'mutation{createUser(input:{\\n        name:\"Cesar Garcia\"\\n        address:\"7261 Avenida de Burgos, Granada, Extremadura, Spain, 27974\"\\n        description:\"from randomuser.me\"\\n        dob:\"1969-01-03T16:23:49.076Z\"\\n        imageUrl:\"https://randomuser.me/api/portraits/thumb/men/31.jpg\"\\n    }) {createdAt} }'"
      ]
     },
     "metadata": {},
     "output_type": "display_data"
    },
    {
     "data": {
      "text/plain": [
       "{'data': {'createUser': {'createdAt': '2022-05-02T00:55:39.536Z'}}}"
      ]
     },
     "metadata": {},
     "output_type": "display_data"
    },
    {
     "data": {
      "text/plain": [
       "'mutation{createUser(input:{\\n        name:\"Renée Arnaud\"\\n        address:\"3122 Rue Gasparin, Reinach (Ag), Appenzell Innerrhoden, Switzerland, 7130\"\\n        description:\"from randomuser.me\"\\n        dob:\"1981-10-15T15:44:32.762Z\"\\n        imageUrl:\"https://randomuser.me/api/portraits/thumb/women/65.jpg\"\\n    }) {createdAt} }'"
      ]
     },
     "metadata": {},
     "output_type": "display_data"
    },
    {
     "data": {
      "text/plain": [
       "{'data': {'createUser': {'createdAt': '2022-05-02T00:55:39.790Z'}}}"
      ]
     },
     "metadata": {},
     "output_type": "display_data"
    },
    {
     "data": {
      "text/plain": [
       "'mutation{createUser(input:{\\n        name:\"Feiko Zuijderduijn\"\\n        address:\"1751 De Gistjagers, Jipsinghuizen, Noord-Brabant, Netherlands, 28348\"\\n        description:\"from randomuser.me\"\\n        dob:\"1993-02-09T23:45:59.756Z\"\\n        imageUrl:\"https://randomuser.me/api/portraits/thumb/men/24.jpg\"\\n    }) {createdAt} }'"
      ]
     },
     "metadata": {},
     "output_type": "display_data"
    },
    {
     "data": {
      "text/plain": [
       "{'data': {'createUser': {'createdAt': '2022-05-02T00:55:40.100Z'}}}"
      ]
     },
     "metadata": {},
     "output_type": "display_data"
    },
    {
     "data": {
      "text/plain": [
       "'mutation{createUser(input:{\\n        name:\"Jonah Grindhaug\"\\n        address:\"7473 Oberst Angells vei, Holm, Hedmark, Norway, 3259\"\\n        description:\"from randomuser.me\"\\n        dob:\"1993-04-07T12:16:05.175Z\"\\n        imageUrl:\"https://randomuser.me/api/portraits/thumb/men/73.jpg\"\\n    }) {createdAt} }'"
      ]
     },
     "metadata": {},
     "output_type": "display_data"
    },
    {
     "data": {
      "text/plain": [
       "{'data': {'createUser': {'createdAt': '2022-05-02T00:55:40.360Z'}}}"
      ]
     },
     "metadata": {},
     "output_type": "display_data"
    },
    {
     "data": {
      "text/plain": [
       "'mutation{createUser(input:{\\n        name:\"Abdoel Çakmak\"\\n        address:\"4832 Den Spittheuvel, Eijsden-Margraten, Noord-Holland, Netherlands, 41148\"\\n        description:\"from randomuser.me\"\\n        dob:\"1948-07-31T08:09:53.942Z\"\\n        imageUrl:\"https://randomuser.me/api/portraits/thumb/men/87.jpg\"\\n    }) {createdAt} }'"
      ]
     },
     "metadata": {},
     "output_type": "display_data"
    },
    {
     "data": {
      "text/plain": [
       "{'data': {'createUser': {'createdAt': '2022-05-02T00:55:40.618Z'}}}"
      ]
     },
     "metadata": {},
     "output_type": "display_data"
    },
    {
     "data": {
      "text/plain": [
       "'mutation{createUser(input:{\\n        name:\"Onur Pektemek\"\\n        address:\"7047 Atatürk Sk, Kocaeli, İzmir, Turkey, 54752\"\\n        description:\"from randomuser.me\"\\n        dob:\"1969-05-12T21:11:41.529Z\"\\n        imageUrl:\"https://randomuser.me/api/portraits/thumb/men/68.jpg\"\\n    }) {createdAt} }'"
      ]
     },
     "metadata": {},
     "output_type": "display_data"
    },
    {
     "data": {
      "text/plain": [
       "{'data': {'createUser': {'createdAt': '2022-05-02T00:55:40.877Z'}}}"
      ]
     },
     "metadata": {},
     "output_type": "display_data"
    },
    {
     "data": {
      "text/plain": [
       "'mutation{createUser(input:{\\n        name:\"Ellie Walker\"\\n        address:\"5952 Gladstone Road, Palmerston North, Bay of Plenty, New Zealand, 74451\"\\n        description:\"from randomuser.me\"\\n        dob:\"1993-07-16T22:41:05.015Z\"\\n        imageUrl:\"https://randomuser.me/api/portraits/thumb/women/58.jpg\"\\n    }) {createdAt} }'"
      ]
     },
     "metadata": {},
     "output_type": "display_data"
    },
    {
     "data": {
      "text/plain": [
       "{'data': {'createUser': {'createdAt': '2022-05-02T00:55:41.143Z'}}}"
      ]
     },
     "metadata": {},
     "output_type": "display_data"
    },
    {
     "data": {
      "text/plain": [
       "'mutation{createUser(input:{\\n        name:\"Zackary Williams\"\\n        address:\"7631 St. Catherine St, Trout Lake, Saskatchewan, Canada, T2A 2C2\"\\n        description:\"from randomuser.me\"\\n        dob:\"1957-05-21T00:34:35.110Z\"\\n        imageUrl:\"https://randomuser.me/api/portraits/thumb/men/79.jpg\"\\n    }) {createdAt} }'"
      ]
     },
     "metadata": {},
     "output_type": "display_data"
    },
    {
     "data": {
      "text/plain": [
       "{'data': {'createUser': {'createdAt': '2022-05-02T00:55:41.386Z'}}}"
      ]
     },
     "metadata": {},
     "output_type": "display_data"
    },
    {
     "data": {
      "text/plain": [
       "'mutation{createUser(input:{\\n        name:\"George Thompson\"\\n        address:\"2766 Maxwell Road, Greymouth, Bay of Plenty, New Zealand, 31672\"\\n        description:\"from randomuser.me\"\\n        dob:\"1992-06-17T17:55:37.291Z\"\\n        imageUrl:\"https://randomuser.me/api/portraits/thumb/men/88.jpg\"\\n    }) {createdAt} }'"
      ]
     },
     "metadata": {},
     "output_type": "display_data"
    },
    {
     "data": {
      "text/plain": [
       "{'data': {'createUser': {'createdAt': '2022-05-02T00:55:41.655Z'}}}"
      ]
     },
     "metadata": {},
     "output_type": "display_data"
    },
    {
     "data": {
      "text/plain": [
       "'mutation{createUser(input:{\\n        name:\"Shayan Lieng\"\\n        address:\"9755 Johan Svendsens gate, Søgne, Sør-Trøndelag, Norway, 5501\"\\n        description:\"from randomuser.me\"\\n        dob:\"1972-03-14T05:53:36.190Z\"\\n        imageUrl:\"https://randomuser.me/api/portraits/thumb/men/61.jpg\"\\n    }) {createdAt} }'"
      ]
     },
     "metadata": {},
     "output_type": "display_data"
    },
    {
     "data": {
      "text/plain": [
       "{'data': {'createUser': {'createdAt': '2022-05-02T00:55:41.956Z'}}}"
      ]
     },
     "metadata": {},
     "output_type": "display_data"
    },
    {
     "data": {
      "text/plain": [
       "'mutation{createUser(input:{\\n        name:\"Bruno Edvartsen\"\\n        address:\"7578 Elias Blix\\' gate, Stjørdalshalsen, Akershus, Norway, 1791\"\\n        description:\"from randomuser.me\"\\n        dob:\"1971-10-22T00:25:06.109Z\"\\n        imageUrl:\"https://randomuser.me/api/portraits/thumb/men/2.jpg\"\\n    }) {createdAt} }'"
      ]
     },
     "metadata": {},
     "output_type": "display_data"
    },
    {
     "data": {
      "text/plain": [
       "{'data': {'createUser': {'createdAt': '2022-05-02T00:55:42.196Z'}}}"
      ]
     },
     "metadata": {},
     "output_type": "display_data"
    },
    {
     "data": {
      "text/plain": [
       "'mutation{createUser(input:{\\n        name:\"Carole Arnaud\"\\n        address:\"2291 Rue Pasteur, Biasca, Luzern, Switzerland, 5073\"\\n        description:\"from randomuser.me\"\\n        dob:\"1945-10-16T11:33:42.125Z\"\\n        imageUrl:\"https://randomuser.me/api/portraits/thumb/women/33.jpg\"\\n    }) {createdAt} }'"
      ]
     },
     "metadata": {},
     "output_type": "display_data"
    },
    {
     "data": {
      "text/plain": [
       "{'data': {'createUser': {'createdAt': '2022-05-02T00:55:42.432Z'}}}"
      ]
     },
     "metadata": {},
     "output_type": "display_data"
    },
    {
     "data": {
      "text/plain": [
       "'mutation{createUser(input:{\\n        name:\"ثنا كامياران\"\\n        address:\"1478 هویزه, ارومیه, اردبیل, Iran, 67118\"\\n        description:\"from randomuser.me\"\\n        dob:\"1987-01-26T01:36:59.414Z\"\\n        imageUrl:\"https://randomuser.me/api/portraits/thumb/women/93.jpg\"\\n    }) {createdAt} }'"
      ]
     },
     "metadata": {},
     "output_type": "display_data"
    },
    {
     "data": {
      "text/plain": [
       "{'data': {'createUser': {'createdAt': '2022-05-02T00:55:42.732Z'}}}"
      ]
     },
     "metadata": {},
     "output_type": "display_data"
    },
    {
     "data": {
      "text/plain": [
       "'mutation{createUser(input:{\\n        name:\"Vivianne Kriesels\"\\n        address:\"2793 Broekemastraat, Dodewaard, Gelderland, Netherlands, 45048\"\\n        description:\"from randomuser.me\"\\n        dob:\"1988-12-28T21:26:52.032Z\"\\n        imageUrl:\"https://randomuser.me/api/portraits/thumb/women/82.jpg\"\\n    }) {createdAt} }'"
      ]
     },
     "metadata": {},
     "output_type": "display_data"
    },
    {
     "data": {
      "text/plain": [
       "{'data': {'createUser': {'createdAt': '2022-05-02T00:55:42.985Z'}}}"
      ]
     },
     "metadata": {},
     "output_type": "display_data"
    },
    {
     "data": {
      "text/plain": [
       "'mutation{createUser(input:{\\n        name:\"عسل نجاتی\"\\n        address:\"690 جمهوری اسلامی, ارومیه, هرمزگان, Iran, 43515\"\\n        description:\"from randomuser.me\"\\n        dob:\"1979-01-31T14:26:05.445Z\"\\n        imageUrl:\"https://randomuser.me/api/portraits/thumb/women/80.jpg\"\\n    }) {createdAt} }'"
      ]
     },
     "metadata": {},
     "output_type": "display_data"
    },
    {
     "data": {
      "text/plain": [
       "{'data': {'createUser': {'createdAt': '2022-05-02T00:55:43.236Z'}}}"
      ]
     },
     "metadata": {},
     "output_type": "display_data"
    },
    {
     "data": {
      "text/plain": [
       "'mutation{createUser(input:{\\n        name:\"Iúri Nascimento\"\\n        address:\"275 Rua Treze , Caxias do Sul, Pará, Brazil, 50984\"\\n        description:\"from randomuser.me\"\\n        dob:\"1980-04-23T02:46:29.305Z\"\\n        imageUrl:\"https://randomuser.me/api/portraits/thumb/men/70.jpg\"\\n    }) {createdAt} }'"
      ]
     },
     "metadata": {},
     "output_type": "display_data"
    },
    {
     "data": {
      "text/plain": [
       "{'data': {'createUser': {'createdAt': '2022-05-02T00:55:43.489Z'}}}"
      ]
     },
     "metadata": {},
     "output_type": "display_data"
    },
    {
     "data": {
      "text/plain": [
       "'mutation{createUser(input:{\\n        name:\"Malin Kwarten\"\\n        address:\"4851 Hakenbosch, Egmondermeer, Limburg, Netherlands, 66942\"\\n        description:\"from randomuser.me\"\\n        dob:\"1954-01-11T18:16:26.898Z\"\\n        imageUrl:\"https://randomuser.me/api/portraits/thumb/women/67.jpg\"\\n    }) {createdAt} }'"
      ]
     },
     "metadata": {},
     "output_type": "display_data"
    },
    {
     "data": {
      "text/plain": [
       "{'data': {'createUser': {'createdAt': '2022-05-02T00:55:43.735Z'}}}"
      ]
     },
     "metadata": {},
     "output_type": "display_data"
    },
    {
     "data": {
      "text/plain": [
       "'mutation{createUser(input:{\\n        name:\"Sarah Thompson\"\\n        address:\"4583 Argyle St, Burlington, Nunavut, Canada, O9J 1H8\"\\n        description:\"from randomuser.me\"\\n        dob:\"1959-11-14T19:17:22.577Z\"\\n        imageUrl:\"https://randomuser.me/api/portraits/thumb/women/91.jpg\"\\n    }) {createdAt} }'"
      ]
     },
     "metadata": {},
     "output_type": "display_data"
    },
    {
     "data": {
      "text/plain": [
       "{'data': {'createUser': {'createdAt': '2022-05-02T00:55:43.980Z'}}}"
      ]
     },
     "metadata": {},
     "output_type": "display_data"
    },
    {
     "data": {
      "text/plain": [
       "'mutation{createUser(input:{\\n        name:\"Enrique Martinez\"\\n        address:\"5430 New Road, Leicester, County Antrim, United Kingdom, D0E 1RJ\"\\n        description:\"from randomuser.me\"\\n        dob:\"1951-12-25T02:36:51.669Z\"\\n        imageUrl:\"https://randomuser.me/api/portraits/thumb/men/37.jpg\"\\n    }) {createdAt} }'"
      ]
     },
     "metadata": {},
     "output_type": "display_data"
    },
    {
     "data": {
      "text/plain": [
       "{'data': {'createUser': {'createdAt': '2022-05-02T00:55:44.446Z'}}}"
      ]
     },
     "metadata": {},
     "output_type": "display_data"
    },
    {
     "data": {
      "text/plain": [
       "'mutation{createUser(input:{\\n        name:\"Sue Young\"\\n        address:\"1882 Cackson St, Addison, Texas, United States, 60920\"\\n        description:\"from randomuser.me\"\\n        dob:\"1971-10-02T00:58:49.531Z\"\\n        imageUrl:\"https://randomuser.me/api/portraits/thumb/women/71.jpg\"\\n    }) {createdAt} }'"
      ]
     },
     "metadata": {},
     "output_type": "display_data"
    },
    {
     "data": {
      "text/plain": [
       "{'data': {'createUser': {'createdAt': '2022-05-02T00:55:44.706Z'}}}"
      ]
     },
     "metadata": {},
     "output_type": "display_data"
    },
    {
     "data": {
      "text/plain": [
       "'mutation{createUser(input:{\\n        name:\"Shawn Brown\"\\n        address:\"6150 Strand Road, Nenagh, Clare, Ireland, 56111\"\\n        description:\"from randomuser.me\"\\n        dob:\"1978-07-12T15:23:38.512Z\"\\n        imageUrl:\"https://randomuser.me/api/portraits/thumb/men/71.jpg\"\\n    }) {createdAt} }'"
      ]
     },
     "metadata": {},
     "output_type": "display_data"
    },
    {
     "data": {
      "text/plain": [
       "{'data': {'createUser': {'createdAt': '2022-05-02T00:55:44.969Z'}}}"
      ]
     },
     "metadata": {},
     "output_type": "display_data"
    },
    {
     "data": {
      "text/plain": [
       "'mutation{createUser(input:{\\n        name:\"Lærke Pedersen\"\\n        address:\"8154 Lyngbakken, Stenderup, Hovedstaden, Denmark, 64098\"\\n        description:\"from randomuser.me\"\\n        dob:\"1979-05-25T10:33:29.893Z\"\\n        imageUrl:\"https://randomuser.me/api/portraits/thumb/women/48.jpg\"\\n    }) {createdAt} }'"
      ]
     },
     "metadata": {},
     "output_type": "display_data"
    },
    {
     "data": {
      "text/plain": [
       "{'data': {'createUser': {'createdAt': '2022-05-02T00:55:45.222Z'}}}"
      ]
     },
     "metadata": {},
     "output_type": "display_data"
    },
    {
     "data": {
      "text/plain": [
       "'mutation{createUser(input:{\\n        name:\"Erik Wheeler\"\\n        address:\"2202 Depaul Dr, Dubbo, Northern Territory, Australia, 5305\"\\n        description:\"from randomuser.me\"\\n        dob:\"1967-04-04T15:43:29.242Z\"\\n        imageUrl:\"https://randomuser.me/api/portraits/thumb/men/19.jpg\"\\n    }) {createdAt} }'"
      ]
     },
     "metadata": {},
     "output_type": "display_data"
    },
    {
     "data": {
      "text/plain": [
       "{'data': {'createUser': {'createdAt': '2022-05-02T00:55:45.470Z'}}}"
      ]
     },
     "metadata": {},
     "output_type": "display_data"
    },
    {
     "data": {
      "text/plain": [
       "'mutation{createUser(input:{\\n        name:\"مارال قاسمی\"\\n        address:\"7411 آیت الله سعیدی, رشت, آذربایجان شرقی, Iran, 50718\"\\n        description:\"from randomuser.me\"\\n        dob:\"1945-09-02T09:59:19.360Z\"\\n        imageUrl:\"https://randomuser.me/api/portraits/thumb/women/33.jpg\"\\n    }) {createdAt} }'"
      ]
     },
     "metadata": {},
     "output_type": "display_data"
    },
    {
     "data": {
      "text/plain": [
       "{'data': {'createUser': {'createdAt': '2022-05-02T00:55:45.732Z'}}}"
      ]
     },
     "metadata": {},
     "output_type": "display_data"
    },
    {
     "data": {
      "text/plain": [
       "'mutation{createUser(input:{\\n        name:\"Roberto Willis\"\\n        address:\"9239 Rookery Road, Youghal, Meath, Ireland, 44780\"\\n        description:\"from randomuser.me\"\\n        dob:\"1988-01-08T15:06:57.954Z\"\\n        imageUrl:\"https://randomuser.me/api/portraits/thumb/men/90.jpg\"\\n    }) {createdAt} }'"
      ]
     },
     "metadata": {},
     "output_type": "display_data"
    },
    {
     "data": {
      "text/plain": [
       "{'data': {'createUser': {'createdAt': '2022-05-02T00:55:45.965Z'}}}"
      ]
     },
     "metadata": {},
     "output_type": "display_data"
    },
    {
     "data": {
      "text/plain": [
       "'mutation{createUser(input:{\\n        name:\"Giulia Menard\"\\n        address:\"7836 Rue Victor-Hugo, Altnau, Zug, Switzerland, 1931\"\\n        description:\"from randomuser.me\"\\n        dob:\"1987-10-24T09:28:31.395Z\"\\n        imageUrl:\"https://randomuser.me/api/portraits/thumb/women/64.jpg\"\\n    }) {createdAt} }'"
      ]
     },
     "metadata": {},
     "output_type": "display_data"
    },
    {
     "data": {
      "text/plain": [
       "{'data': {'createUser': {'createdAt': '2022-05-02T00:55:46.247Z'}}}"
      ]
     },
     "metadata": {},
     "output_type": "display_data"
    },
    {
     "data": {
      "text/plain": [
       "'mutation{createUser(input:{\\n        name:\"Brittany Henderson\"\\n        address:\"2259 Park Avenue, Monaghan, Meath, Ireland, 29624\"\\n        description:\"from randomuser.me\"\\n        dob:\"1989-02-03T07:49:01.794Z\"\\n        imageUrl:\"https://randomuser.me/api/portraits/thumb/women/35.jpg\"\\n    }) {createdAt} }'"
      ]
     },
     "metadata": {},
     "output_type": "display_data"
    },
    {
     "data": {
      "text/plain": [
       "{'data': {'createUser': {'createdAt': '2022-05-02T00:55:46.513Z'}}}"
      ]
     },
     "metadata": {},
     "output_type": "display_data"
    },
    {
     "data": {
      "text/plain": [
       "'mutation{createUser(input:{\\n        name:\"Mary Ertsås\"\\n        address:\"383 Herregårdsveien, Kråkstad, Bergen, Norway, 7333\"\\n        description:\"from randomuser.me\"\\n        dob:\"1963-08-14T05:24:21.723Z\"\\n        imageUrl:\"https://randomuser.me/api/portraits/thumb/women/47.jpg\"\\n    }) {createdAt} }'"
      ]
     },
     "metadata": {},
     "output_type": "display_data"
    },
    {
     "data": {
      "text/plain": [
       "{'data': {'createUser': {'createdAt': '2022-05-02T00:55:47.011Z'}}}"
      ]
     },
     "metadata": {},
     "output_type": "display_data"
    },
    {
     "data": {
      "text/plain": [
       "'mutation{createUser(input:{\\n        name:\"Catarina Hubert\"\\n        address:\"6319 Rue de la Charité, Kandergrund, Obwalden, Switzerland, 6431\"\\n        description:\"from randomuser.me\"\\n        dob:\"1952-09-12T17:44:11.391Z\"\\n        imageUrl:\"https://randomuser.me/api/portraits/thumb/women/62.jpg\"\\n    }) {createdAt} }'"
      ]
     },
     "metadata": {},
     "output_type": "display_data"
    },
    {
     "data": {
      "text/plain": [
       "{'data': {'createUser': {'createdAt': '2022-05-02T00:55:47.290Z'}}}"
      ]
     },
     "metadata": {},
     "output_type": "display_data"
    },
    {
     "data": {
      "text/plain": [
       "'mutation{createUser(input:{\\n        name:\"محمدمهدی حیدری\"\\n        address:\"2142 سمیه, ساوه, کهگیلویه و بویراحمد, Iran, 67063\"\\n        description:\"from randomuser.me\"\\n        dob:\"1970-03-25T22:08:41.624Z\"\\n        imageUrl:\"https://randomuser.me/api/portraits/thumb/men/7.jpg\"\\n    }) {createdAt} }'"
      ]
     },
     "metadata": {},
     "output_type": "display_data"
    },
    {
     "data": {
      "text/plain": [
       "{'data': {'createUser': {'createdAt': '2022-05-02T00:55:47.543Z'}}}"
      ]
     },
     "metadata": {},
     "output_type": "display_data"
    },
    {
     "data": {
      "text/plain": [
       "'mutation{createUser(input:{\\n        name:\"Bessie Thomas\"\\n        address:\"3630 Oak Ridge Ln, Henderson, Virginia, United States, 91786\"\\n        description:\"from randomuser.me\"\\n        dob:\"1991-03-07T07:44:38.800Z\"\\n        imageUrl:\"https://randomuser.me/api/portraits/thumb/women/17.jpg\"\\n    }) {createdAt} }'"
      ]
     },
     "metadata": {},
     "output_type": "display_data"
    },
    {
     "data": {
      "text/plain": [
       "{'data': {'createUser': {'createdAt': '2022-05-02T00:55:47.802Z'}}}"
      ]
     },
     "metadata": {},
     "output_type": "display_data"
    },
    {
     "data": {
      "text/plain": [
       "'mutation{createUser(input:{\\n        name:\"Helge Just\"\\n        address:\"7973 Rosenweg, Löbau, Schleswig-Holstein, Germany, 38936\"\\n        description:\"from randomuser.me\"\\n        dob:\"1954-09-22T10:16:41.206Z\"\\n        imageUrl:\"https://randomuser.me/api/portraits/thumb/men/11.jpg\"\\n    }) {createdAt} }'"
      ]
     },
     "metadata": {},
     "output_type": "display_data"
    },
    {
     "data": {
      "text/plain": [
       "{'data': {'createUser': {'createdAt': '2022-05-02T00:55:48.344Z'}}}"
      ]
     },
     "metadata": {},
     "output_type": "display_data"
    },
    {
     "data": {
      "text/plain": [
       "'mutation{createUser(input:{\\n        name:\"Roy Walters\"\\n        address:\"5401 Mockingbird Ln, Albury, Australian Capital Territory, Australia, 3813\"\\n        description:\"from randomuser.me\"\\n        dob:\"1968-10-27T19:48:55.917Z\"\\n        imageUrl:\"https://randomuser.me/api/portraits/thumb/men/72.jpg\"\\n    }) {createdAt} }'"
      ]
     },
     "metadata": {},
     "output_type": "display_data"
    },
    {
     "data": {
      "text/plain": [
       "{'data': {'createUser': {'createdAt': '2022-05-02T00:55:48.618Z'}}}"
      ]
     },
     "metadata": {},
     "output_type": "display_data"
    },
    {
     "data": {
      "text/plain": [
       "'mutation{createUser(input:{\\n        name:\"Hennie Moerkerken\"\\n        address:\"1562 Akerkhof, Kaag en Braassem, Overijssel, Netherlands, 33830\"\\n        description:\"from randomuser.me\"\\n        dob:\"1964-11-15T11:07:25.301Z\"\\n        imageUrl:\"https://randomuser.me/api/portraits/thumb/men/94.jpg\"\\n    }) {createdAt} }'"
      ]
     },
     "metadata": {},
     "output_type": "display_data"
    },
    {
     "data": {
      "text/plain": [
       "{'data': {'createUser': {'createdAt': '2022-05-02T00:55:48.926Z'}}}"
      ]
     },
     "metadata": {},
     "output_type": "display_data"
    },
    {
     "data": {
      "text/plain": [
       "'mutation{createUser(input:{\\n        name:\"Virginia Vicente\"\\n        address:\"7091 Calle de Tetuán, Orense, Región de Murcia, Spain, 90542\"\\n        description:\"from randomuser.me\"\\n        dob:\"1981-11-22T03:40:20.355Z\"\\n        imageUrl:\"https://randomuser.me/api/portraits/thumb/women/22.jpg\"\\n    }) {createdAt} }'"
      ]
     },
     "metadata": {},
     "output_type": "display_data"
    },
    {
     "data": {
      "text/plain": [
       "{'data': {'createUser': {'createdAt': '2022-05-02T00:55:49.302Z'}}}"
      ]
     },
     "metadata": {},
     "output_type": "display_data"
    },
    {
     "data": {
      "text/plain": [
       "'mutation{createUser(input:{\\n        name:\"Alisha Nordli\"\\n        address:\"5256 Kranveien, Heggenes, Nord-Trøndelag, Norway, 0595\"\\n        description:\"from randomuser.me\"\\n        dob:\"1948-08-29T13:43:02.695Z\"\\n        imageUrl:\"https://randomuser.me/api/portraits/thumb/women/65.jpg\"\\n    }) {createdAt} }'"
      ]
     },
     "metadata": {},
     "output_type": "display_data"
    },
    {
     "data": {
      "text/plain": [
       "{'data': {'createUser': {'createdAt': '2022-05-02T00:55:49.742Z'}}}"
      ]
     },
     "metadata": {},
     "output_type": "display_data"
    },
    {
     "data": {
      "text/plain": [
       "'mutation{createUser(input:{\\n        name:\"Charlotte Barnaby\"\\n        address:\"323 Regent Ave, Bath, Prince Edward Island, Canada, Y1E 0U2\"\\n        description:\"from randomuser.me\"\\n        dob:\"1948-12-26T22:14:18.514Z\"\\n        imageUrl:\"https://randomuser.me/api/portraits/thumb/women/0.jpg\"\\n    }) {createdAt} }'"
      ]
     },
     "metadata": {},
     "output_type": "display_data"
    },
    {
     "data": {
      "text/plain": [
       "{'data': {'createUser': {'createdAt': '2022-05-02T00:55:50.060Z'}}}"
      ]
     },
     "metadata": {},
     "output_type": "display_data"
    },
    {
     "data": {
      "text/plain": [
       "'mutation{createUser(input:{\\n        name:\"Ömür Sadıklar\"\\n        address:\"3662 Doktorlar Cd, Iğdır, Bitlis, Turkey, 62715\"\\n        description:\"from randomuser.me\"\\n        dob:\"1972-07-20T03:26:29.104Z\"\\n        imageUrl:\"https://randomuser.me/api/portraits/thumb/women/10.jpg\"\\n    }) {createdAt} }'"
      ]
     },
     "metadata": {},
     "output_type": "display_data"
    },
    {
     "data": {
      "text/plain": [
       "{'data': {'createUser': {'createdAt': '2022-05-02T00:55:50.315Z'}}}"
      ]
     },
     "metadata": {},
     "output_type": "display_data"
    },
    {
     "data": {
      "text/plain": [
       "'mutation{createUser(input:{\\n        name:\"Iker Hernandez\"\\n        address:\"5382 Calle de Ángel García, Almería, Castilla y León, Spain, 43903\"\\n        description:\"from randomuser.me\"\\n        dob:\"1991-01-31T18:03:46.316Z\"\\n        imageUrl:\"https://randomuser.me/api/portraits/thumb/men/13.jpg\"\\n    }) {createdAt} }'"
      ]
     },
     "metadata": {},
     "output_type": "display_data"
    },
    {
     "data": {
      "text/plain": [
       "{'data': {'createUser': {'createdAt': '2022-05-02T00:55:50.687Z'}}}"
      ]
     },
     "metadata": {},
     "output_type": "display_data"
    },
    {
     "data": {
      "text/plain": [
       "'mutation{createUser(input:{\\n        name:\"Helen Morel\"\\n        address:\"5728 Cours Charlemagne, Arosa, Obwalden, Switzerland, 2877\"\\n        description:\"from randomuser.me\"\\n        dob:\"1945-05-17T21:50:44.568Z\"\\n        imageUrl:\"https://randomuser.me/api/portraits/thumb/women/65.jpg\"\\n    }) {createdAt} }'"
      ]
     },
     "metadata": {},
     "output_type": "display_data"
    },
    {
     "data": {
      "text/plain": [
       "{'data': {'createUser': {'createdAt': '2022-05-02T00:55:51.136Z'}}}"
      ]
     },
     "metadata": {},
     "output_type": "display_data"
    },
    {
     "data": {
      "text/plain": [
       "'mutation{createUser(input:{\\n        name:\"Ella Kalas\"\\n        address:\"6182 Suvantokatu, Ristiina, Tavastia Proper, Finland, 18940\"\\n        description:\"from randomuser.me\"\\n        dob:\"1975-02-08T14:31:53.158Z\"\\n        imageUrl:\"https://randomuser.me/api/portraits/thumb/women/47.jpg\"\\n    }) {createdAt} }'"
      ]
     },
     "metadata": {},
     "output_type": "display_data"
    },
    {
     "data": {
      "text/plain": [
       "{'data': {'createUser': {'createdAt': '2022-05-02T00:55:51.391Z'}}}"
      ]
     },
     "metadata": {},
     "output_type": "display_data"
    },
    {
     "data": {
      "text/plain": [
       "'mutation{createUser(input:{\\n        name:\"Isaac Bates\"\\n        address:\"4789 Paddock Way, Edison, Vermont, United States, 22413\"\\n        description:\"from randomuser.me\"\\n        dob:\"1955-08-15T04:26:15.747Z\"\\n        imageUrl:\"https://randomuser.me/api/portraits/thumb/men/68.jpg\"\\n    }) {createdAt} }'"
      ]
     },
     "metadata": {},
     "output_type": "display_data"
    },
    {
     "data": {
      "text/plain": [
       "{'data': {'createUser': {'createdAt': '2022-05-02T00:55:51.658Z'}}}"
      ]
     },
     "metadata": {},
     "output_type": "display_data"
    },
    {
     "data": {
      "text/plain": [
       "'mutation{createUser(input:{\\n        name:\"Arent Peeman\"\\n        address:\"6818 Bovenwiel, Eijsden-Margraten, Utrecht, Netherlands, 31840\"\\n        description:\"from randomuser.me\"\\n        dob:\"1971-09-24T12:41:15.475Z\"\\n        imageUrl:\"https://randomuser.me/api/portraits/thumb/men/63.jpg\"\\n    }) {createdAt} }'"
      ]
     },
     "metadata": {},
     "output_type": "display_data"
    },
    {
     "data": {
      "text/plain": [
       "{'data': {'createUser': {'createdAt': '2022-05-02T00:55:51.983Z'}}}"
      ]
     },
     "metadata": {},
     "output_type": "display_data"
    },
    {
     "data": {
      "text/plain": [
       "'mutation{createUser(input:{\\n        name:\"Edwin Arnold\"\\n        address:\"8672 E Pecan St, Atlanta, Florida, United States, 39173\"\\n        description:\"from randomuser.me\"\\n        dob:\"1946-07-29T13:04:27.986Z\"\\n        imageUrl:\"https://randomuser.me/api/portraits/thumb/men/82.jpg\"\\n    }) {createdAt} }'"
      ]
     },
     "metadata": {},
     "output_type": "display_data"
    },
    {
     "data": {
      "text/plain": [
       "{'data': {'createUser': {'createdAt': '2022-05-02T00:55:52.270Z'}}}"
      ]
     },
     "metadata": {},
     "output_type": "display_data"
    },
    {
     "data": {
      "text/plain": [
       "'mutation{createUser(input:{\\n        name:\"Tracey Garrett\"\\n        address:\"1088 Park Lane, York, County Armagh, United Kingdom, F50 3SA\"\\n        description:\"from randomuser.me\"\\n        dob:\"1962-08-21T17:08:47.068Z\"\\n        imageUrl:\"https://randomuser.me/api/portraits/thumb/women/48.jpg\"\\n    }) {createdAt} }'"
      ]
     },
     "metadata": {},
     "output_type": "display_data"
    },
    {
     "data": {
      "text/plain": [
       "{'data': {'createUser': {'createdAt': '2022-05-02T00:55:52.638Z'}}}"
      ]
     },
     "metadata": {},
     "output_type": "display_data"
    },
    {
     "data": {
      "text/plain": [
       "'mutation{createUser(input:{\\n        name:\"Morgan Picard\"\\n        address:\"298 Rue Dugas-Montbel, Aix-En-Provence, Côtes-D\\'Armor, France, 30569\"\\n        description:\"from randomuser.me\"\\n        dob:\"1965-11-11T02:37:30.220Z\"\\n        imageUrl:\"https://randomuser.me/api/portraits/thumb/men/58.jpg\"\\n    }) {createdAt} }'"
      ]
     },
     "metadata": {},
     "output_type": "display_data"
    },
    {
     "data": {
      "text/plain": [
       "{'data': {'createUser': {'createdAt': '2022-05-02T00:55:53.063Z'}}}"
      ]
     },
     "metadata": {},
     "output_type": "display_data"
    },
    {
     "data": {
      "text/plain": [
       "'mutation{createUser(input:{\\n        name:\"Erman Liefhebber\"\\n        address:\"3538 3e Lageveldsweg, Heelsum, Flevoland, Netherlands, 98869\"\\n        description:\"from randomuser.me\"\\n        dob:\"1961-06-22T01:20:42.076Z\"\\n        imageUrl:\"https://randomuser.me/api/portraits/thumb/men/53.jpg\"\\n    }) {createdAt} }'"
      ]
     },
     "metadata": {},
     "output_type": "display_data"
    },
    {
     "data": {
      "text/plain": [
       "{'data': {'createUser': {'createdAt': '2022-05-02T00:55:53.586Z'}}}"
      ]
     },
     "metadata": {},
     "output_type": "display_data"
    },
    {
     "data": {
      "text/plain": [
       "'mutation{createUser(input:{\\n        name:\"Alie Ten Hoven\"\\n        address:\"5061 Havenrak, Pietersbierum, Groningen, Netherlands, 47697\"\\n        description:\"from randomuser.me\"\\n        dob:\"1986-12-27T08:04:51.005Z\"\\n        imageUrl:\"https://randomuser.me/api/portraits/thumb/women/31.jpg\"\\n    }) {createdAt} }'"
      ]
     },
     "metadata": {},
     "output_type": "display_data"
    },
    {
     "data": {
      "text/plain": [
       "{'data': {'createUser': {'createdAt': '2022-05-02T00:55:53.844Z'}}}"
      ]
     },
     "metadata": {},
     "output_type": "display_data"
    },
    {
     "data": {
      "text/plain": [
       "'mutation{createUser(input:{\\n        name:\"Victor Clark\"\\n        address:\"2577 Park Rd, Brockton, Nova Scotia, Canada, J4V 1E6\"\\n        description:\"from randomuser.me\"\\n        dob:\"1949-08-10T00:08:11.052Z\"\\n        imageUrl:\"https://randomuser.me/api/portraits/thumb/men/30.jpg\"\\n    }) {createdAt} }'"
      ]
     },
     "metadata": {},
     "output_type": "display_data"
    },
    {
     "data": {
      "text/plain": [
       "{'data': {'createUser': {'createdAt': '2022-05-02T00:55:54.154Z'}}}"
      ]
     },
     "metadata": {},
     "output_type": "display_data"
    },
    {
     "data": {
      "text/plain": [
       "'mutation{createUser(input:{\\n        name:\"Loris Fabre\"\\n        address:\"8900 Avenue Debrousse, Montreuil, Bas-Rhin, France, 58086\"\\n        description:\"from randomuser.me\"\\n        dob:\"1974-06-30T15:06:39.878Z\"\\n        imageUrl:\"https://randomuser.me/api/portraits/thumb/men/61.jpg\"\\n    }) {createdAt} }'"
      ]
     },
     "metadata": {},
     "output_type": "display_data"
    },
    {
     "data": {
      "text/plain": [
       "{'data': {'createUser': {'createdAt': '2022-05-02T00:55:54.417Z'}}}"
      ]
     },
     "metadata": {},
     "output_type": "display_data"
    },
    {
     "data": {
      "text/plain": [
       "'mutation{createUser(input:{\\n        name:\"Alvaro Garcia\"\\n        address:\"9347 Calle del Pez, Fuenlabrada, Cataluña, Spain, 97770\"\\n        description:\"from randomuser.me\"\\n        dob:\"1963-09-14T04:00:49.241Z\"\\n        imageUrl:\"https://randomuser.me/api/portraits/thumb/men/16.jpg\"\\n    }) {createdAt} }'"
      ]
     },
     "metadata": {},
     "output_type": "display_data"
    },
    {
     "data": {
      "text/plain": [
       "{'data': {'createUser': {'createdAt': '2022-05-02T00:55:54.661Z'}}}"
      ]
     },
     "metadata": {},
     "output_type": "display_data"
    },
    {
     "data": {
      "text/plain": [
       "'mutation{createUser(input:{\\n        name:\"Tanya Rodriquez\"\\n        address:\"9628 Green Rd, Tempe, New Hampshire, United States, 96167\"\\n        description:\"from randomuser.me\"\\n        dob:\"1953-03-13T15:20:00.849Z\"\\n        imageUrl:\"https://randomuser.me/api/portraits/thumb/women/70.jpg\"\\n    }) {createdAt} }'"
      ]
     },
     "metadata": {},
     "output_type": "display_data"
    },
    {
     "data": {
      "text/plain": [
       "{'data': {'createUser': {'createdAt': '2022-05-02T00:55:54.905Z'}}}"
      ]
     },
     "metadata": {},
     "output_type": "display_data"
    },
    {
     "data": {
      "text/plain": [
       "'mutation{createUser(input:{\\n        name:\"Jo Tønsberg\"\\n        address:\"9753 Dokkveien, Eggkleiva, Finnmark - Finnmárku, Norway, 6879\"\\n        description:\"from randomuser.me\"\\n        dob:\"1970-05-27T00:22:29.722Z\"\\n        imageUrl:\"https://randomuser.me/api/portraits/thumb/men/7.jpg\"\\n    }) {createdAt} }'"
      ]
     },
     "metadata": {},
     "output_type": "display_data"
    },
    {
     "data": {
      "text/plain": [
       "{'data': {'createUser': {'createdAt': '2022-05-02T00:55:55.402Z'}}}"
      ]
     },
     "metadata": {},
     "output_type": "display_data"
    },
    {
     "data": {
      "text/plain": [
       "'mutation{createUser(input:{\\n        name:\"Coşkun Keseroğlu\"\\n        address:\"7382 Abanoz Sk, Antalya, Diyarbakır, Turkey, 34222\"\\n        description:\"from randomuser.me\"\\n        dob:\"1994-11-19T15:09:13.714Z\"\\n        imageUrl:\"https://randomuser.me/api/portraits/thumb/men/63.jpg\"\\n    }) {createdAt} }'"
      ]
     },
     "metadata": {},
     "output_type": "display_data"
    },
    {
     "data": {
      "text/plain": [
       "{'data': {'createUser': {'createdAt': '2022-05-02T00:55:55.663Z'}}}"
      ]
     },
     "metadata": {},
     "output_type": "display_data"
    },
    {
     "data": {
      "text/plain": [
       "'mutation{createUser(input:{\\n        name:\"Afşar Akan\"\\n        address:\"4732 Maçka Cd, Bilecik, Afyonkarahisar, Turkey, 14229\"\\n        description:\"from randomuser.me\"\\n        dob:\"1959-05-13T08:23:08.341Z\"\\n        imageUrl:\"https://randomuser.me/api/portraits/thumb/women/31.jpg\"\\n    }) {createdAt} }'"
      ]
     },
     "metadata": {},
     "output_type": "display_data"
    },
    {
     "data": {
      "text/plain": [
       "{'data': {'createUser': {'createdAt': '2022-05-02T00:55:56.111Z'}}}"
      ]
     },
     "metadata": {},
     "output_type": "display_data"
    },
    {
     "data": {
      "text/plain": [
       "'mutation{createUser(input:{\\n        name:\"Medina Fontai\"\\n        address:\"6758 Rue Laure-Diebold, Cornaux, Zug, Switzerland, 3272\"\\n        description:\"from randomuser.me\"\\n        dob:\"1963-05-06T16:50:28.525Z\"\\n        imageUrl:\"https://randomuser.me/api/portraits/thumb/women/60.jpg\"\\n    }) {createdAt} }'"
      ]
     },
     "metadata": {},
     "output_type": "display_data"
    },
    {
     "data": {
      "text/plain": [
       "{'data': {'createUser': {'createdAt': '2022-05-02T00:55:56.363Z'}}}"
      ]
     },
     "metadata": {},
     "output_type": "display_data"
    },
    {
     "data": {
      "text/plain": [
       "'mutation{createUser(input:{\\n        name:\"آرش حیدری\"\\n        address:\"6059 خرمشهر, سنندج, هرمزگان, Iran, 21609\"\\n        description:\"from randomuser.me\"\\n        dob:\"1985-12-22T05:56:34.833Z\"\\n        imageUrl:\"https://randomuser.me/api/portraits/thumb/men/82.jpg\"\\n    }) {createdAt} }'"
      ]
     },
     "metadata": {},
     "output_type": "display_data"
    },
    {
     "data": {
      "text/plain": [
       "{'data': {'createUser': {'createdAt': '2022-05-02T00:55:56.617Z'}}}"
      ]
     },
     "metadata": {},
     "output_type": "display_data"
    },
    {
     "data": {
      "text/plain": [
       "'mutation{createUser(input:{\\n        name:\"Arlo Singh\"\\n        address:\"2029 Cumberland Street, Rotorua, Canterbury, New Zealand, 65103\"\\n        description:\"from randomuser.me\"\\n        dob:\"1945-11-17T12:48:41.257Z\"\\n        imageUrl:\"https://randomuser.me/api/portraits/thumb/men/98.jpg\"\\n    }) {createdAt} }'"
      ]
     },
     "metadata": {},
     "output_type": "display_data"
    },
    {
     "data": {
      "text/plain": [
       "{'data': {'createUser': {'createdAt': '2022-05-02T00:55:56.858Z'}}}"
      ]
     },
     "metadata": {},
     "output_type": "display_data"
    },
    {
     "data": {
      "text/plain": [
       "'mutation{createUser(input:{\\n        name:\"Batur Yorulmaz\"\\n        address:\"3884 Filistin Cd, Bitlis, Rize, Turkey, 56903\"\\n        description:\"from randomuser.me\"\\n        dob:\"1988-08-26T15:38:01.056Z\"\\n        imageUrl:\"https://randomuser.me/api/portraits/thumb/men/6.jpg\"\\n    }) {createdAt} }'"
      ]
     },
     "metadata": {},
     "output_type": "display_data"
    },
    {
     "data": {
      "text/plain": [
       "{'data': {'createUser': {'createdAt': '2022-05-02T00:55:57.141Z'}}}"
      ]
     },
     "metadata": {},
     "output_type": "display_data"
    },
    {
     "data": {
      "text/plain": [
       "'mutation{createUser(input:{\\n        name:\"Joy Adams\"\\n        address:\"3478 Valley View Ln, Port Macquarie, Northern Territory, Australia, 2878\"\\n        description:\"from randomuser.me\"\\n        dob:\"1994-11-07T10:25:48.634Z\"\\n        imageUrl:\"https://randomuser.me/api/portraits/thumb/women/28.jpg\"\\n    }) {createdAt} }'"
      ]
     },
     "metadata": {},
     "output_type": "display_data"
    },
    {
     "data": {
      "text/plain": [
       "{'data': {'createUser': {'createdAt': '2022-05-02T00:55:57.416Z'}}}"
      ]
     },
     "metadata": {},
     "output_type": "display_data"
    },
    {
     "data": {
      "text/plain": [
       "'mutation{createUser(input:{\\n        name:\"Celestino Lopes\"\\n        address:\"3316 Rua Três, Santana de Parnaíba, Amapá, Brazil, 47674\"\\n        description:\"from randomuser.me\"\\n        dob:\"1966-09-06T14:27:56.950Z\"\\n        imageUrl:\"https://randomuser.me/api/portraits/thumb/men/79.jpg\"\\n    }) {createdAt} }'"
      ]
     },
     "metadata": {},
     "output_type": "display_data"
    },
    {
     "data": {
      "text/plain": [
       "{'data': {'createUser': {'createdAt': '2022-05-02T00:55:57.640Z'}}}"
      ]
     },
     "metadata": {},
     "output_type": "display_data"
    },
    {
     "data": {
      "text/plain": [
       "'mutation{createUser(input:{\\n        name:\"کوروش پارسا\"\\n        address:\"6370 داودی, کرج, خوزستان, Iran, 92425\"\\n        description:\"from randomuser.me\"\\n        dob:\"1957-08-24T14:05:32.065Z\"\\n        imageUrl:\"https://randomuser.me/api/portraits/thumb/men/28.jpg\"\\n    }) {createdAt} }'"
      ]
     },
     "metadata": {},
     "output_type": "display_data"
    },
    {
     "data": {
      "text/plain": [
       "{'data': {'createUser': {'createdAt': '2022-05-02T00:55:57.875Z'}}}"
      ]
     },
     "metadata": {},
     "output_type": "display_data"
    },
    {
     "data": {
      "text/plain": [
       "'mutation{createUser(input:{\\n        name:\"Beverley Hall\"\\n        address:\"8048 Karen Dr, Gladstone, Tasmania, Australia, 4671\"\\n        description:\"from randomuser.me\"\\n        dob:\"1975-05-26T04:49:10.576Z\"\\n        imageUrl:\"https://randomuser.me/api/portraits/thumb/women/54.jpg\"\\n    }) {createdAt} }'"
      ]
     },
     "metadata": {},
     "output_type": "display_data"
    },
    {
     "data": {
      "text/plain": [
       "{'data': {'createUser': {'createdAt': '2022-05-02T00:55:58.189Z'}}}"
      ]
     },
     "metadata": {},
     "output_type": "display_data"
    },
    {
     "data": {
      "text/plain": [
       "'mutation{createUser(input:{\\n        name:\"Caroline Morgan\"\\n        address:\"3024 Church Lane, Bristol, Devon, United Kingdom, P98 5QL\"\\n        description:\"from randomuser.me\"\\n        dob:\"1997-06-30T12:33:54.635Z\"\\n        imageUrl:\"https://randomuser.me/api/portraits/thumb/women/41.jpg\"\\n    }) {createdAt} }'"
      ]
     },
     "metadata": {},
     "output_type": "display_data"
    },
    {
     "data": {
      "text/plain": [
       "{'data': {'createUser': {'createdAt': '2022-05-02T00:55:58.439Z'}}}"
      ]
     },
     "metadata": {},
     "output_type": "display_data"
    },
    {
     "data": {
      "text/plain": [
       "'mutation{createUser(input:{\\n        name:\"Janina Morel\"\\n        address:\"2931 Rue du Bon-Pasteur, Forst-Längenbühl, Schaffhausen, Switzerland, 8884\"\\n        description:\"from randomuser.me\"\\n        dob:\"1966-12-06T09:34:23.890Z\"\\n        imageUrl:\"https://randomuser.me/api/portraits/thumb/women/33.jpg\"\\n    }) {createdAt} }'"
      ]
     },
     "metadata": {},
     "output_type": "display_data"
    },
    {
     "data": {
      "text/plain": [
       "{'data': {'createUser': {'createdAt': '2022-05-02T00:55:58.677Z'}}}"
      ]
     },
     "metadata": {},
     "output_type": "display_data"
    },
    {
     "data": {
      "text/plain": [
       "'mutation{createUser(input:{\\n        name:\"Tilde Sørensen\"\\n        address:\"9209 Holme Parkvej, Nykøbing F, Nordjylland, Denmark, 41968\"\\n        description:\"from randomuser.me\"\\n        dob:\"1963-09-22T23:06:54.477Z\"\\n        imageUrl:\"https://randomuser.me/api/portraits/thumb/women/36.jpg\"\\n    }) {createdAt} }'"
      ]
     },
     "metadata": {},
     "output_type": "display_data"
    },
    {
     "data": {
      "text/plain": [
       "{'data': {'createUser': {'createdAt': '2022-05-02T00:55:58.948Z'}}}"
      ]
     },
     "metadata": {},
     "output_type": "display_data"
    },
    {
     "data": {
      "text/plain": [
       "'mutation{createUser(input:{\\n        name:\"Joao Saris\"\\n        address:\"7600 Kleine Omloop, Driehuis Nh, Groningen, Netherlands, 59222\"\\n        description:\"from randomuser.me\"\\n        dob:\"1962-12-09T00:41:22.851Z\"\\n        imageUrl:\"https://randomuser.me/api/portraits/thumb/men/45.jpg\"\\n    }) {createdAt} }'"
      ]
     },
     "metadata": {},
     "output_type": "display_data"
    },
    {
     "data": {
      "text/plain": [
       "{'data': {'createUser': {'createdAt': '2022-05-02T00:55:59.204Z'}}}"
      ]
     },
     "metadata": {},
     "output_type": "display_data"
    },
    {
     "data": {
      "text/plain": [
       "'mutation{createUser(input:{\\n        name:\"پارسا موسوی\"\\n        address:\"9693 شهید کشواد, کرج, سیستان و بلوچستان, Iran, 77121\"\\n        description:\"from randomuser.me\"\\n        dob:\"1979-09-16T10:04:37.463Z\"\\n        imageUrl:\"https://randomuser.me/api/portraits/thumb/men/82.jpg\"\\n    }) {createdAt} }'"
      ]
     },
     "metadata": {},
     "output_type": "display_data"
    },
    {
     "data": {
      "text/plain": [
       "{'data': {'createUser': {'createdAt': '2022-05-02T00:55:59.472Z'}}}"
      ]
     },
     "metadata": {},
     "output_type": "display_data"
    },
    {
     "data": {
      "text/plain": [
       "'mutation{createUser(input:{\\n        name:\"Theodore Li\"\\n        address:\"1443 Forbury Road, Masterton, Taranaki, New Zealand, 57319\"\\n        description:\"from randomuser.me\"\\n        dob:\"1973-08-23T01:53:53.387Z\"\\n        imageUrl:\"https://randomuser.me/api/portraits/thumb/men/66.jpg\"\\n    }) {createdAt} }'"
      ]
     },
     "metadata": {},
     "output_type": "display_data"
    },
    {
     "data": {
      "text/plain": [
       "{'data': {'createUser': {'createdAt': '2022-05-02T00:55:59.729Z'}}}"
      ]
     },
     "metadata": {},
     "output_type": "display_data"
    },
    {
     "data": {
      "text/plain": [
       "'mutation{createUser(input:{\\n        name:\"Emily Madsen\"\\n        address:\"6348 Kirsebærhaven, Ugerløse, Syddanmark, Denmark, 50477\"\\n        description:\"from randomuser.me\"\\n        dob:\"1983-09-04T17:33:28.288Z\"\\n        imageUrl:\"https://randomuser.me/api/portraits/thumb/women/60.jpg\"\\n    }) {createdAt} }'"
      ]
     },
     "metadata": {},
     "output_type": "display_data"
    },
    {
     "data": {
      "text/plain": [
       "{'data': {'createUser': {'createdAt': '2022-05-02T00:56:00.023Z'}}}"
      ]
     },
     "metadata": {},
     "output_type": "display_data"
    },
    {
     "data": {
      "text/plain": [
       "'mutation{createUser(input:{\\n        name:\"Kerttu Kauppi\"\\n        address:\"5697 Pispalan Valtatie, Iisalmi, Northern Ostrobothnia, Finland, 76351\"\\n        description:\"from randomuser.me\"\\n        dob:\"1976-08-31T16:21:35.426Z\"\\n        imageUrl:\"https://randomuser.me/api/portraits/thumb/women/78.jpg\"\\n    }) {createdAt} }'"
      ]
     },
     "metadata": {},
     "output_type": "display_data"
    },
    {
     "data": {
      "text/plain": [
       "{'data': {'createUser': {'createdAt': '2022-05-02T00:56:00.281Z'}}}"
      ]
     },
     "metadata": {},
     "output_type": "display_data"
    },
    {
     "data": {
      "text/plain": [
       "'mutation{createUser(input:{\\n        name:\"Marcus Cox\"\\n        address:\"9296 Taylor St, Geelong, New South Wales, Australia, 6555\"\\n        description:\"from randomuser.me\"\\n        dob:\"1996-09-06T18:50:02.420Z\"\\n        imageUrl:\"https://randomuser.me/api/portraits/thumb/men/8.jpg\"\\n    }) {createdAt} }'"
      ]
     },
     "metadata": {},
     "output_type": "display_data"
    },
    {
     "data": {
      "text/plain": [
       "{'data': {'createUser': {'createdAt': '2022-05-02T00:56:00.528Z'}}}"
      ]
     },
     "metadata": {},
     "output_type": "display_data"
    },
    {
     "data": {
      "text/plain": [
       "'mutation{createUser(input:{\\n        name:\"Alwin Coenen\"\\n        address:\"3138 Uhlandstraße, Emmelshausen, Hamburg, Germany, 49759\"\\n        description:\"from randomuser.me\"\\n        dob:\"1982-06-10T05:00:36.957Z\"\\n        imageUrl:\"https://randomuser.me/api/portraits/thumb/men/38.jpg\"\\n    }) {createdAt} }'"
      ]
     },
     "metadata": {},
     "output_type": "display_data"
    },
    {
     "data": {
      "text/plain": [
       "{'data': {'createUser': {'createdAt': '2022-05-02T00:56:00.789Z'}}}"
      ]
     },
     "metadata": {},
     "output_type": "display_data"
    },
    {
     "data": {
      "text/plain": [
       "'mutation{createUser(input:{\\n        name:\"Efe Arıcan\"\\n        address:\"9331 Vatan Cd, Siirt, Mersin, Turkey, 65974\"\\n        description:\"from randomuser.me\"\\n        dob:\"1973-02-03T19:32:24.644Z\"\\n        imageUrl:\"https://randomuser.me/api/portraits/thumb/men/81.jpg\"\\n    }) {createdAt} }'"
      ]
     },
     "metadata": {},
     "output_type": "display_data"
    },
    {
     "data": {
      "text/plain": [
       "{'data': {'createUser': {'createdAt': '2022-05-02T00:56:01.052Z'}}}"
      ]
     },
     "metadata": {},
     "output_type": "display_data"
    },
    {
     "data": {
      "text/plain": [
       "'mutation{createUser(input:{\\n        name:\"Ayşe Ilıcalı\"\\n        address:\"7878 Necatibey Cd, Isparta, Uşak, Turkey, 23424\"\\n        description:\"from randomuser.me\"\\n        dob:\"1961-07-02T17:33:35.313Z\"\\n        imageUrl:\"https://randomuser.me/api/portraits/thumb/women/20.jpg\"\\n    }) {createdAt} }'"
      ]
     },
     "metadata": {},
     "output_type": "display_data"
    },
    {
     "data": {
      "text/plain": [
       "{'data': {'createUser': {'createdAt': '2022-05-02T00:56:01.460Z'}}}"
      ]
     },
     "metadata": {},
     "output_type": "display_data"
    },
    {
     "data": {
      "text/plain": [
       "'mutation{createUser(input:{\\n        name:\"Serenity Hughes\"\\n        address:\"9641 Timber Wolf Trail, Traralgon, Northern Territory, Australia, 3879\"\\n        description:\"from randomuser.me\"\\n        dob:\"1963-07-11T07:01:44.508Z\"\\n        imageUrl:\"https://randomuser.me/api/portraits/thumb/women/59.jpg\"\\n    }) {createdAt} }'"
      ]
     },
     "metadata": {},
     "output_type": "display_data"
    },
    {
     "data": {
      "text/plain": [
       "{'data': {'createUser': {'createdAt': '2022-05-02T00:56:01.688Z'}}}"
      ]
     },
     "metadata": {},
     "output_type": "display_data"
    },
    {
     "data": {
      "text/plain": [
       "'mutation{createUser(input:{\\n        name:\"Eden Fournier\"\\n        address:\"8108 Rue Pierre-Delore, Tourcoing, Cantal, France, 65248\"\\n        description:\"from randomuser.me\"\\n        dob:\"1949-02-12T19:32:59.275Z\"\\n        imageUrl:\"https://randomuser.me/api/portraits/thumb/women/91.jpg\"\\n    }) {createdAt} }'"
      ]
     },
     "metadata": {},
     "output_type": "display_data"
    },
    {
     "data": {
      "text/plain": [
       "{'data': {'createUser': {'createdAt': '2022-05-02T00:56:01.970Z'}}}"
      ]
     },
     "metadata": {},
     "output_type": "display_data"
    },
    {
     "data": {
      "text/plain": [
       "'mutation{createUser(input:{\\n        name:\"Babs Bonnes\"\\n        address:\"676 Eikenberg, Westerhoven, Gelderland, Netherlands, 70107\"\\n        description:\"from randomuser.me\"\\n        dob:\"1979-10-20T17:35:48.983Z\"\\n        imageUrl:\"https://randomuser.me/api/portraits/thumb/women/31.jpg\"\\n    }) {createdAt} }'"
      ]
     },
     "metadata": {},
     "output_type": "display_data"
    },
    {
     "data": {
      "text/plain": [
       "{'data': {'createUser': {'createdAt': '2022-05-02T00:56:02.211Z'}}}"
      ]
     },
     "metadata": {},
     "output_type": "display_data"
    },
    {
     "data": {
      "text/plain": [
       "'mutation{createUser(input:{\\n        name:\"Alberte Rasmussen\"\\n        address:\"6603 Dalbyvej, Pandrup, Midtjylland, Denmark, 46162\"\\n        description:\"from randomuser.me\"\\n        dob:\"1946-07-29T04:07:12.192Z\"\\n        imageUrl:\"https://randomuser.me/api/portraits/thumb/women/69.jpg\"\\n    }) {createdAt} }'"
      ]
     },
     "metadata": {},
     "output_type": "display_data"
    },
    {
     "data": {
      "text/plain": [
       "{'data': {'createUser': {'createdAt': '2022-05-02T00:56:03.546Z'}}}"
      ]
     },
     "metadata": {},
     "output_type": "display_data"
    },
    {
     "data": {
      "text/plain": [
       "'mutation{createUser(input:{\\n        name:\"Lilian Berger\"\\n        address:\"2642 Rue Dubois, Aubervilliers, Yvelines, France, 35323\"\\n        description:\"from randomuser.me\"\\n        dob:\"1985-10-08T01:33:26.259Z\"\\n        imageUrl:\"https://randomuser.me/api/portraits/thumb/men/48.jpg\"\\n    }) {createdAt} }'"
      ]
     },
     "metadata": {},
     "output_type": "display_data"
    },
    {
     "data": {
      "text/plain": [
       "{'data': {'createUser': {'createdAt': '2022-05-02T00:56:03.810Z'}}}"
      ]
     },
     "metadata": {},
     "output_type": "display_data"
    },
    {
     "data": {
      "text/plain": [
       "'mutation{createUser(input:{\\n        name:\"Charlotte Edwards\"\\n        address:\"6240 North Road, Rush, Limerick, Ireland, 80790\"\\n        description:\"from randomuser.me\"\\n        dob:\"1989-09-24T09:40:12.798Z\"\\n        imageUrl:\"https://randomuser.me/api/portraits/thumb/women/13.jpg\"\\n    }) {createdAt} }'"
      ]
     },
     "metadata": {},
     "output_type": "display_data"
    },
    {
     "data": {
      "text/plain": [
       "{'data': {'createUser': {'createdAt': '2022-05-02T00:56:04.099Z'}}}"
      ]
     },
     "metadata": {},
     "output_type": "display_data"
    },
    {
     "data": {
      "text/plain": [
       "'mutation{createUser(input:{\\n        name:\"Agustin Sanz\"\\n        address:\"485 Calle de Téllez, Bilbao, Canarias, Spain, 72890\"\\n        description:\"from randomuser.me\"\\n        dob:\"1969-10-22T22:06:36.229Z\"\\n        imageUrl:\"https://randomuser.me/api/portraits/thumb/men/83.jpg\"\\n    }) {createdAt} }'"
      ]
     },
     "metadata": {},
     "output_type": "display_data"
    },
    {
     "data": {
      "text/plain": [
       "{'data': {'createUser': {'createdAt': '2022-05-02T00:56:04.331Z'}}}"
      ]
     },
     "metadata": {},
     "output_type": "display_data"
    },
    {
     "data": {
      "text/plain": [
       "'mutation{createUser(input:{\\n        name:\"Mohammed Faure\"\\n        address:\"6118 Rue du Dauphiné, Büetigen, Basel-Stadt, Switzerland, 4143\"\\n        description:\"from randomuser.me\"\\n        dob:\"1968-03-28T21:27:18.008Z\"\\n        imageUrl:\"https://randomuser.me/api/portraits/thumb/men/94.jpg\"\\n    }) {createdAt} }'"
      ]
     },
     "metadata": {},
     "output_type": "display_data"
    },
    {
     "data": {
      "text/plain": [
       "{'data': {'createUser': {'createdAt': '2022-05-02T00:56:04.568Z'}}}"
      ]
     },
     "metadata": {},
     "output_type": "display_data"
    },
    {
     "data": {
      "text/plain": [
       "'mutation{createUser(input:{\\n        name:\"Mia Barbier\"\\n        address:\"2980 Rue Laure-Diebold, Schöfflisdorf, Neuchâtel, Switzerland, 3867\"\\n        description:\"from randomuser.me\"\\n        dob:\"1958-02-19T08:22:21.763Z\"\\n        imageUrl:\"https://randomuser.me/api/portraits/thumb/women/84.jpg\"\\n    }) {createdAt} }'"
      ]
     },
     "metadata": {},
     "output_type": "display_data"
    },
    {
     "data": {
      "text/plain": [
       "{'data': {'createUser': {'createdAt': '2022-05-02T00:56:04.821Z'}}}"
      ]
     },
     "metadata": {},
     "output_type": "display_data"
    },
    {
     "data": {
      "text/plain": [
       "'mutation{createUser(input:{\\n        name:\"Ellie Woods\"\\n        address:\"4251 Boghall Road, Cork, Dún Laoghaire–Rathdown, Ireland, 22073\"\\n        description:\"from randomuser.me\"\\n        dob:\"1988-07-26T12:59:26.185Z\"\\n        imageUrl:\"https://randomuser.me/api/portraits/thumb/women/60.jpg\"\\n    }) {createdAt} }'"
      ]
     },
     "metadata": {},
     "output_type": "display_data"
    },
    {
     "data": {
      "text/plain": [
       "{'data': {'createUser': {'createdAt': '2022-05-02T00:56:05.173Z'}}}"
      ]
     },
     "metadata": {},
     "output_type": "display_data"
    },
    {
     "data": {
      "text/plain": [
       "'mutation{createUser(input:{\\n        name:\"Silas Handeland\"\\n        address:\"1904 Brennaveien, Bø, Finnmark - Finnmárku, Norway, 3032\"\\n        description:\"from randomuser.me\"\\n        dob:\"1968-03-05T06:49:49.040Z\"\\n        imageUrl:\"https://randomuser.me/api/portraits/thumb/men/0.jpg\"\\n    }) {createdAt} }'"
      ]
     },
     "metadata": {},
     "output_type": "display_data"
    },
    {
     "data": {
      "text/plain": [
       "{'data': {'createUser': {'createdAt': '2022-05-02T00:56:05.449Z'}}}"
      ]
     },
     "metadata": {},
     "output_type": "display_data"
    },
    {
     "data": {
      "text/plain": [
       "'mutation{createUser(input:{\\n        name:\"Elias Thomsen\"\\n        address:\"3294 Lundevej, Gjern, Midtjylland, Denmark, 44350\"\\n        description:\"from randomuser.me\"\\n        dob:\"1970-06-28T20:45:03.928Z\"\\n        imageUrl:\"https://randomuser.me/api/portraits/thumb/men/48.jpg\"\\n    }) {createdAt} }'"
      ]
     },
     "metadata": {},
     "output_type": "display_data"
    },
    {
     "data": {
      "text/plain": [
       "{'data': {'createUser': {'createdAt': '2022-05-02T00:56:05.718Z'}}}"
      ]
     },
     "metadata": {},
     "output_type": "display_data"
    },
    {
     "data": {
      "text/plain": [
       "'mutation{createUser(input:{\\n        name:\"Josephine Hunt\"\\n        address:\"2910 Mockingbird Ln, Hobart, New South Wales, Australia, 397\"\\n        description:\"from randomuser.me\"\\n        dob:\"1966-08-06T10:54:04.653Z\"\\n        imageUrl:\"https://randomuser.me/api/portraits/thumb/women/87.jpg\"\\n    }) {createdAt} }'"
      ]
     },
     "metadata": {},
     "output_type": "display_data"
    },
    {
     "data": {
      "text/plain": [
       "{'data': {'createUser': {'createdAt': '2022-05-02T00:56:05.965Z'}}}"
      ]
     },
     "metadata": {},
     "output_type": "display_data"
    },
    {
     "data": {
      "text/plain": [
       "'mutation{createUser(input:{\\n        name:\"Mayara Fogaça\"\\n        address:\"6011 Rua Paraíba , Cachoeirinha, Roraima, Brazil, 17644\"\\n        description:\"from randomuser.me\"\\n        dob:\"1976-08-03T15:05:07.056Z\"\\n        imageUrl:\"https://randomuser.me/api/portraits/thumb/women/33.jpg\"\\n    }) {createdAt} }'"
      ]
     },
     "metadata": {},
     "output_type": "display_data"
    },
    {
     "data": {
      "text/plain": [
       "{'data': {'createUser': {'createdAt': '2022-05-02T00:56:06.220Z'}}}"
      ]
     },
     "metadata": {},
     "output_type": "display_data"
    },
    {
     "data": {
      "text/plain": [
       "'mutation{createUser(input:{\\n        name:\"Juliane Wenger\"\\n        address:\"3529 Ahornweg, Konz, Rheinland-Pfalz, Germany, 41908\"\\n        description:\"from randomuser.me\"\\n        dob:\"1996-05-22T09:01:40.838Z\"\\n        imageUrl:\"https://randomuser.me/api/portraits/thumb/women/76.jpg\"\\n    }) {createdAt} }'"
      ]
     },
     "metadata": {},
     "output_type": "display_data"
    },
    {
     "data": {
      "text/plain": [
       "{'data': {'createUser': {'createdAt': '2022-05-02T00:56:06.466Z'}}}"
      ]
     },
     "metadata": {},
     "output_type": "display_data"
    },
    {
     "data": {
      "text/plain": [
       "'mutation{createUser(input:{\\n        name:\"Cidalino da Costa\"\\n        address:\"9969 Rua Rio de Janeiro , Feira de Santana, Santa Catarina, Brazil, 15974\"\\n        description:\"from randomuser.me\"\\n        dob:\"1945-05-26T06:07:35.288Z\"\\n        imageUrl:\"https://randomuser.me/api/portraits/thumb/men/94.jpg\"\\n    }) {createdAt} }'"
      ]
     },
     "metadata": {},
     "output_type": "display_data"
    },
    {
     "data": {
      "text/plain": [
       "{'data': {'createUser': {'createdAt': '2022-05-02T00:56:06.731Z'}}}"
      ]
     },
     "metadata": {},
     "output_type": "display_data"
    },
    {
     "data": {
      "text/plain": [
       "'mutation{createUser(input:{\\n        name:\"النا زارعی\"\\n        address:\"3154 شهید اکبر وصالی, دزفول, بوشهر, Iran, 96757\"\\n        description:\"from randomuser.me\"\\n        dob:\"1993-04-13T10:26:12.154Z\"\\n        imageUrl:\"https://randomuser.me/api/portraits/thumb/women/82.jpg\"\\n    }) {createdAt} }'"
      ]
     },
     "metadata": {},
     "output_type": "display_data"
    },
    {
     "data": {
      "text/plain": [
       "{'data': {'createUser': {'createdAt': '2022-05-02T00:56:07.017Z'}}}"
      ]
     },
     "metadata": {},
     "output_type": "display_data"
    },
    {
     "data": {
      "text/plain": [
       "'mutation{createUser(input:{\\n        name:\"Ruby Thomas\"\\n        address:\"3459 Shady Ln Dr, Shepparton, New South Wales, Australia, 4257\"\\n        description:\"from randomuser.me\"\\n        dob:\"1961-01-10T03:45:08.155Z\"\\n        imageUrl:\"https://randomuser.me/api/portraits/thumb/women/34.jpg\"\\n    }) {createdAt} }'"
      ]
     },
     "metadata": {},
     "output_type": "display_data"
    },
    {
     "data": {
      "text/plain": [
       "{'data': {'createUser': {'createdAt': '2022-05-02T00:56:07.246Z'}}}"
      ]
     },
     "metadata": {},
     "output_type": "display_data"
    },
    {
     "data": {
      "text/plain": [
       "'mutation{createUser(input:{\\n        name:\"Clinton Hall\"\\n        address:\"3795 Westheimer Rd, Hervey Bay, Australian Capital Territory, Australia, 1228\"\\n        description:\"from randomuser.me\"\\n        dob:\"1996-09-15T10:59:07.601Z\"\\n        imageUrl:\"https://randomuser.me/api/portraits/thumb/men/1.jpg\"\\n    }) {createdAt} }'"
      ]
     },
     "metadata": {},
     "output_type": "display_data"
    },
    {
     "data": {
      "text/plain": [
       "{'data': {'createUser': {'createdAt': '2022-05-02T00:56:07.596Z'}}}"
      ]
     },
     "metadata": {},
     "output_type": "display_data"
    }
   ],
   "source": [
    "for i in range(200):\n",
    "    display(addAccount( getAccount(0)['results'][0]))\n"
   ]
  },
  {
   "cell_type": "code",
   "execution_count": 4,
   "metadata": {},
   "outputs": [
    {
     "ename": "ImportError",
     "evalue": "attempted relative import with no known parent package",
     "output_type": "error",
     "traceback": [
      "\u001b[0;31m---------------------------------------------------------------------------\u001b[0m",
      "\u001b[0;31mImportError\u001b[0m                               Traceback (most recent call last)",
      "\u001b[0;32m<ipython-input-4-c1ab239156ad>\u001b[0m in \u001b[0;36m<module>\u001b[0;34m\u001b[0m\n\u001b[1;32m      2\u001b[0m \u001b[0;32mfrom\u001b[0m \u001b[0msgqlc\u001b[0m\u001b[0;34m.\u001b[0m\u001b[0mendpoint\u001b[0m\u001b[0;34m.\u001b[0m\u001b[0mhttp\u001b[0m \u001b[0;32mimport\u001b[0m \u001b[0mHTTPEndpoint\u001b[0m\u001b[0;34m\u001b[0m\u001b[0;34m\u001b[0m\u001b[0m\n\u001b[1;32m      3\u001b[0m \u001b[0;34m\u001b[0m\u001b[0m\n\u001b[0;32m----> 4\u001b[0;31m \u001b[0;32mfrom\u001b[0m \u001b[0;34m.\u001b[0m\u001b[0mschema\u001b[0m \u001b[0;32mimport\u001b[0m \u001b[0mQuery\u001b[0m\u001b[0;34m\u001b[0m\u001b[0;34m\u001b[0m\u001b[0m\n\u001b[0m\u001b[1;32m      5\u001b[0m \u001b[0;34m\u001b[0m\u001b[0m\n\u001b[1;32m      6\u001b[0m \u001b[0;34m\u001b[0m\u001b[0m\n",
      "\u001b[0;31mImportError\u001b[0m: attempted relative import with no known parent package"
     ]
    }
   ],
   "source": [
    "from sgqlc.operation import Operation\n",
    "from sgqlc.endpoint.http import HTTPEndpoint\n",
    "\n",
    "from .schema import Query\n",
    "\n",
    "\n",
    "mutation = Operation(Query)\n",
    "\n",
    "Mutation.createUser(\n",
    "    name=\"Cristobal Rodriguez\",\n",
    "    address=\"2694 Avenida de La Albufera, Valencia, Cantabria, Spain, 12126\",\n",
    "    description=\"from randomuser.me\",\n",
    "    dob=\"1987-01-17T23:57:02.137Z\",\n",
    "    imageUrl=\"https://randomuser.me/api/portraits/thumb/men/59.jpg\")"
   ]
  },
  {
   "cell_type": "code",
   "execution_count": null,
   "metadata": {},
   "outputs": [],
   "source": [
    "director_name"
   ]
  },
  {
   "cell_type": "code",
   "execution_count": 6,
   "metadata": {},
   "outputs": [
    {
     "name": "stdout",
     "output_type": "stream",
     "text": [
      "I like to wash clothes on tuesdays\n",
      "I like to clean dishes never\n",
      "\n"
     ]
    }
   ],
   "source": [
    "wash_clothes = 'tuesdays'\n",
    "clean_dishes = 'never'\n",
    "\n",
    "mystring = f\"\"\"I like to wash clothes on {wash_clothes}\n",
    "I like to clean dishes {clean_dishes}\n",
    "\"\"\"\n",
    "\n",
    "print(mystring)"
   ]
  },
  {
   "cell_type": "code",
   "execution_count": 12,
   "metadata": {},
   "outputs": [
    {
     "ename": "NameError",
     "evalue": "name 'a' is not defined",
     "output_type": "error",
     "traceback": [
      "\u001b[0;31m---------------------------------------------------------------------------\u001b[0m",
      "\u001b[0;31mNameError\u001b[0m                                 Traceback (most recent call last)",
      "\u001b[0;32m<ipython-input-12-c2bdb1e4939c>\u001b[0m in \u001b[0;36m<module>\u001b[0;34m\u001b[0m\n\u001b[1;32m      1\u001b[0m query = f\"\"\"mutation{{createUser(input:{{\n\u001b[0;32m----> 2\u001b[0;31m     \u001b[0mname\u001b[0m\u001b[0;34m:\u001b[0m\u001b[0;34m\"{f\"\u001b[0m\u001b[0;34m{\u001b[0m\u001b[0ma\u001b[0m\u001b[0;34m[\u001b[0m\u001b[0;34m'name'\u001b[0m\u001b[0;34m]\u001b[0m\u001b[0;34m[\u001b[0m\u001b[0;34m'first'\u001b[0m\u001b[0;34m]\u001b[0m\u001b[0;34m}\u001b[0m \u001b[0;34m{\u001b[0m\u001b[0ma\u001b[0m\u001b[0;34m[\u001b[0m\u001b[0;34m'name'\u001b[0m\u001b[0;34m]\u001b[0m\u001b[0;34m[\u001b[0m\u001b[0;34m'last'\u001b[0m\u001b[0;34m]\u001b[0m\u001b[0;34m}\u001b[0m\u001b[0;34m\"}\"\u001b[0m\u001b[0;34m\u001b[0m\u001b[0;34m\u001b[0m\u001b[0m\n\u001b[0m\u001b[1;32m      3\u001b[0m     \u001b[0maddress\u001b[0m\u001b[0;34m:\u001b[0m\u001b[0;34m\"{f\"\u001b[0m\u001b[0;34m{\u001b[0m\u001b[0ma\u001b[0m\u001b[0;34m[\u001b[0m\u001b[0;34m'location'\u001b[0m\u001b[0;34m]\u001b[0m\u001b[0;34m[\u001b[0m\u001b[0;34m'street'\u001b[0m\u001b[0;34m]\u001b[0m\u001b[0;34m[\u001b[0m\u001b[0;34m'number'\u001b[0m\u001b[0;34m]\u001b[0m\u001b[0;34m}\u001b[0m \u001b[0;34m{\u001b[0m\u001b[0ma\u001b[0m\u001b[0;34m[\u001b[0m\u001b[0;34m'location'\u001b[0m\u001b[0;34m]\u001b[0m\u001b[0;34m[\u001b[0m\u001b[0;34m'street'\u001b[0m\u001b[0;34m]\u001b[0m\u001b[0;34m[\u001b[0m\u001b[0;34m'name'\u001b[0m\u001b[0;34m]\u001b[0m\u001b[0;34m}\u001b[0m\u001b[0;34m,\u001b[0m \u001b[0;34m{\u001b[0m\u001b[0ma\u001b[0m\u001b[0;34m[\u001b[0m\u001b[0;34m'location'\u001b[0m\u001b[0;34m]\u001b[0m\u001b[0;34m[\u001b[0m\u001b[0;34m'city'\u001b[0m\u001b[0;34m]\u001b[0m\u001b[0;34m}\u001b[0m\u001b[0;34m,\u001b[0m \u001b[0;34m{\u001b[0m\u001b[0ma\u001b[0m\u001b[0;34m[\u001b[0m\u001b[0;34m'location'\u001b[0m\u001b[0;34m]\u001b[0m\u001b[0;34m[\u001b[0m\u001b[0;34m'state'\u001b[0m\u001b[0;34m]\u001b[0m\u001b[0;34m}\u001b[0m\u001b[0;34m,\u001b[0m \u001b[0;34m{\u001b[0m\u001b[0ma\u001b[0m\u001b[0;34m[\u001b[0m\u001b[0;34m'location'\u001b[0m\u001b[0;34m]\u001b[0m\u001b[0;34m[\u001b[0m\u001b[0;34m'country'\u001b[0m\u001b[0;34m]\u001b[0m\u001b[0;34m}\u001b[0m\u001b[0;34m,\u001b[0m \u001b[0;34m{\u001b[0m\u001b[0ma\u001b[0m\u001b[0;34m[\u001b[0m\u001b[0;34m'location'\u001b[0m\u001b[0;34m]\u001b[0m\u001b[0;34m[\u001b[0m\u001b[0;34m'postcode'\u001b[0m\u001b[0;34m]\u001b[0m\u001b[0;34m}\u001b[0m\u001b[0;34m\"}\"\u001b[0m\u001b[0;34m\u001b[0m\u001b[0;34m\u001b[0m\u001b[0m\n\u001b[1;32m      4\u001b[0m     \u001b[0mdescription\u001b[0m\u001b[0;34m:\u001b[0m\u001b[0;34m\"from randomuser.me\"\u001b[0m\u001b[0;34m\u001b[0m\u001b[0;34m\u001b[0m\u001b[0m\n\u001b[1;32m      5\u001b[0m     \u001b[0mdob\u001b[0m\u001b[0;34m:\u001b[0m\u001b[0;34m\"{a['dob']['date']}\"\u001b[0m\u001b[0;34m\u001b[0m\u001b[0;34m\u001b[0m\u001b[0m\n",
      "\u001b[0;31mNameError\u001b[0m: name 'a' is not defined"
     ]
    }
   ],
   "source": [
    "    query = f\"\"\"mutation{{createUser(input:{{\n",
    "        name:\"{f\"{a['name']['first']} {a['name']['last']}\"}\"\n",
    "        address:\"{f\"{a['location']['street']['number']} {a['location']['street']['name']}, {a['location']['city']}, {a['location']['state']}, {a['location']['country']}, {a['location']['postcode']}\"}\"\n",
    "        description:\"from randomuser.me\"\n",
    "        dob:\"{a['dob']['date']}\"\n",
    "        imageUrl:\"{a['picture']['thumbnail']}\"\n",
    "    }}) {{createdAt}} }}\"\"\"\n",
    "\n",
    "    display(query)"
   ]
  },
  {
   "cell_type": "code",
   "execution_count": null,
   "metadata": {},
   "outputs": [],
   "source": []
  }
 ],
 "metadata": {
  "kernelspec": {
   "display_name": "Python 3",
   "language": "python",
   "name": "python3"
  },
  "language_info": {
   "codemirror_mode": {
    "name": "ipython",
    "version": 3
   },
   "file_extension": ".py",
   "mimetype": "text/x-python",
   "name": "python",
   "nbconvert_exporter": "python",
   "pygments_lexer": "ipython3",
   "version": "3.8.10"
  }
 },
 "nbformat": 4,
 "nbformat_minor": 4
}
